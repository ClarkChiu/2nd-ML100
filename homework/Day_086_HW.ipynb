{
 "cells": [
  {
   "cell_type": "markdown",
   "metadata": {},
   "source": [
    "## Work\n",
    "1. 試比較 save_best_only 與否的差異\n",
    "2. 請僅存入將 save_weights_only 設定為 True, 並嘗試 reset ipynb 並將模型與權重重新建回並預測 x_test"
   ]
  },
  {
   "cell_type": "code",
   "execution_count": 8,
   "metadata": {},
   "outputs": [],
   "source": [
    "import os\n",
    "import keras\n",
    "\n",
    "# Disable GPU\n",
    "os.environ[\"CUDA_VISIBLE_DEVICES\"] = \"\""
   ]
  },
  {
   "cell_type": "code",
   "execution_count": 9,
   "metadata": {},
   "outputs": [],
   "source": [
    "train, test = keras.datasets.cifar10.load_data()"
   ]
  },
  {
   "cell_type": "code",
   "execution_count": 10,
   "metadata": {},
   "outputs": [],
   "source": [
    "## 資料前處理\n",
    "def preproc_x(x, flatten=True):\n",
    "    x = x / 255.\n",
    "    if flatten:\n",
    "        x = x.reshape((len(x), -1))\n",
    "    return x\n",
    "\n",
    "def preproc_y(y, num_classes=10):\n",
    "    if y.shape[-1] == 1:\n",
    "        y = keras.utils.to_categorical(y, num_classes)\n",
    "    return y    "
   ]
  },
  {
   "cell_type": "code",
   "execution_count": 11,
   "metadata": {},
   "outputs": [],
   "source": [
    "x_train, y_train = train\n",
    "x_test, y_test = test\n",
    "\n",
    "# Preproc the inputs\n",
    "x_train = preproc_x(x_train)\n",
    "x_test = preproc_x(x_test)\n",
    "\n",
    "# Preprc the outputs\n",
    "y_train = preproc_y(y_train)\n",
    "y_test = preproc_y(y_test)"
   ]
  },
  {
   "cell_type": "code",
   "execution_count": 12,
   "metadata": {},
   "outputs": [],
   "source": [
    "from keras.layers import BatchNormalization\n",
    "\n",
    "\"\"\"\n",
    "建立神經網路，並加入 BN layer\n",
    "\"\"\"\n",
    "def build_mlp(input_shape, output_units=10, num_neurons=[512, 256, 128]):\n",
    "    input_layer = keras.layers.Input(input_shape)\n",
    "    \n",
    "    for i, n_units in enumerate(num_neurons):\n",
    "        if i == 0:\n",
    "            x = keras.layers.Dense(units=n_units, \n",
    "                                   activation=\"relu\", \n",
    "                                   name=\"hidden_layer\"+str(i+1))(input_layer)\n",
    "            x = BatchNormalization()(x)\n",
    "        else:\n",
    "            x = keras.layers.Dense(units=n_units, \n",
    "                                   activation=\"relu\", \n",
    "                                   name=\"hidden_layer\"+str(i+1))(x)\n",
    "            x = BatchNormalization()(x)\n",
    "    \n",
    "    out = keras.layers.Dense(units=output_units, activation=\"softmax\", name=\"output\")(x)\n",
    "    \n",
    "    model = keras.models.Model(inputs=[input_layer], outputs=[out])\n",
    "    return model"
   ]
  },
  {
   "cell_type": "code",
   "execution_count": 13,
   "metadata": {},
   "outputs": [],
   "source": [
    "## 超參數設定\n",
    "LEARNING_RATE = 1e-3\n",
    "EPOCHS = 50\n",
    "BATCH_SIZE = 1024\n",
    "MOMENTUM = 0.95"
   ]
  },
  {
   "cell_type": "code",
   "execution_count": 14,
   "metadata": {},
   "outputs": [
    {
     "name": "stdout",
     "output_type": "stream",
     "text": [
      "_________________________________________________________________\n",
      "Layer (type)                 Output Shape              Param #   \n",
      "=================================================================\n",
      "input_2 (InputLayer)         (None, 3072)              0         \n",
      "_________________________________________________________________\n",
      "hidden_layer1 (Dense)        (None, 512)               1573376   \n",
      "_________________________________________________________________\n",
      "batch_normalization_4 (Batch (None, 512)               2048      \n",
      "_________________________________________________________________\n",
      "hidden_layer2 (Dense)        (None, 256)               131328    \n",
      "_________________________________________________________________\n",
      "batch_normalization_5 (Batch (None, 256)               1024      \n",
      "_________________________________________________________________\n",
      "hidden_layer3 (Dense)        (None, 128)               32896     \n",
      "_________________________________________________________________\n",
      "batch_normalization_6 (Batch (None, 128)               512       \n",
      "_________________________________________________________________\n",
      "output (Dense)               (None, 10)                1290      \n",
      "=================================================================\n",
      "Total params: 1,742,474\n",
      "Trainable params: 1,740,682\n",
      "Non-trainable params: 1,792\n",
      "_________________________________________________________________\n",
      "Train on 50000 samples, validate on 10000 samples\n",
      "Epoch 1/50\n",
      "50000/50000 [==============================] - 4s 84us/step - loss: 2.2234 - acc: 0.2701 - val_loss: 2.0699 - val_acc: 0.3233\n",
      "Epoch 2/50\n",
      "50000/50000 [==============================] - 3s 55us/step - loss: 1.7291 - acc: 0.3951 - val_loss: 1.7966 - val_acc: 0.3804\n",
      "Epoch 3/50\n",
      "50000/50000 [==============================] - 3s 54us/step - loss: 1.6107 - acc: 0.4332 - val_loss: 1.6693 - val_acc: 0.4158\n",
      "Epoch 4/50\n",
      "50000/50000 [==============================] - 3s 54us/step - loss: 1.5420 - acc: 0.4593 - val_loss: 1.6151 - val_acc: 0.4378\n",
      "Epoch 5/50\n",
      "50000/50000 [==============================] - 3s 54us/step - loss: 1.4913 - acc: 0.4767 - val_loss: 1.5775 - val_acc: 0.4452\n",
      "Epoch 6/50\n",
      "50000/50000 [==============================] - 3s 54us/step - loss: 1.4477 - acc: 0.4914 - val_loss: 1.5580 - val_acc: 0.4496\n",
      "Epoch 7/50\n",
      "50000/50000 [==============================] - 3s 54us/step - loss: 1.4094 - acc: 0.5065 - val_loss: 1.5274 - val_acc: 0.4616\n",
      "Epoch 8/50\n",
      "50000/50000 [==============================] - 3s 54us/step - loss: 1.3748 - acc: 0.5194 - val_loss: 1.5224 - val_acc: 0.4569\n",
      "Epoch 9/50\n",
      "50000/50000 [==============================] - 3s 54us/step - loss: 1.3448 - acc: 0.5296 - val_loss: 1.5042 - val_acc: 0.4678\n",
      "Epoch 10/50\n",
      "50000/50000 [==============================] - 3s 55us/step - loss: 1.3153 - acc: 0.5411 - val_loss: 1.5045 - val_acc: 0.4649\n",
      "Epoch 11/50\n",
      "50000/50000 [==============================] - 3s 55us/step - loss: 1.2894 - acc: 0.5494 - val_loss: 1.4941 - val_acc: 0.4710\n",
      "Epoch 12/50\n",
      "50000/50000 [==============================] - 3s 55us/step - loss: 1.2658 - acc: 0.5593 - val_loss: 1.4881 - val_acc: 0.4721\n",
      "Epoch 13/50\n",
      "50000/50000 [==============================] - 3s 55us/step - loss: 1.2389 - acc: 0.5672 - val_loss: 1.4780 - val_acc: 0.4775\n",
      "Epoch 14/50\n",
      "50000/50000 [==============================] - 3s 55us/step - loss: 1.2155 - acc: 0.5780 - val_loss: 1.4651 - val_acc: 0.4797\n",
      "Epoch 15/50\n",
      "50000/50000 [==============================] - 3s 62us/step - loss: 1.1906 - acc: 0.5873 - val_loss: 1.4652 - val_acc: 0.4846\n",
      "Epoch 16/50\n",
      "50000/50000 [==============================] - 3s 56us/step - loss: 1.1679 - acc: 0.5957 - val_loss: 1.4524 - val_acc: 0.4908\n",
      "Epoch 17/50\n",
      "50000/50000 [==============================] - 3s 57us/step - loss: 1.1458 - acc: 0.6049 - val_loss: 1.4642 - val_acc: 0.4865\n",
      "Epoch 18/50\n",
      "50000/50000 [==============================] - 3s 54us/step - loss: 1.1225 - acc: 0.6155 - val_loss: 1.4581 - val_acc: 0.4843\n",
      "Epoch 19/50\n",
      "50000/50000 [==============================] - 3s 54us/step - loss: 1.1030 - acc: 0.6214 - val_loss: 1.4495 - val_acc: 0.4918\n",
      "Epoch 20/50\n",
      "50000/50000 [==============================] - 3s 55us/step - loss: 1.0807 - acc: 0.6297 - val_loss: 1.4530 - val_acc: 0.4917\n",
      "Epoch 21/50\n",
      "50000/50000 [==============================] - 3s 56us/step - loss: 1.0592 - acc: 0.6377 - val_loss: 1.4473 - val_acc: 0.4927\n",
      "Epoch 22/50\n",
      "50000/50000 [==============================] - 3s 57us/step - loss: 1.0390 - acc: 0.6456 - val_loss: 1.4486 - val_acc: 0.4938\n",
      "Epoch 23/50\n",
      "50000/50000 [==============================] - 3s 59us/step - loss: 1.0177 - acc: 0.6530 - val_loss: 1.4478 - val_acc: 0.4989\n",
      "Epoch 24/50\n",
      "50000/50000 [==============================] - 3s 57us/step - loss: 0.9975 - acc: 0.6604 - val_loss: 1.4653 - val_acc: 0.4887\n",
      "Epoch 25/50\n",
      "50000/50000 [==============================] - 3s 57us/step - loss: 0.9784 - acc: 0.6674 - val_loss: 1.4566 - val_acc: 0.4949\n",
      "Epoch 26/50\n",
      "50000/50000 [==============================] - 3s 57us/step - loss: 0.9556 - acc: 0.6783 - val_loss: 1.4683 - val_acc: 0.4870\n",
      "Epoch 27/50\n",
      "50000/50000 [==============================] - 3s 57us/step - loss: 0.9374 - acc: 0.6846 - val_loss: 1.4524 - val_acc: 0.5004\n",
      "Epoch 28/50\n",
      "50000/50000 [==============================] - 3s 57us/step - loss: 0.9155 - acc: 0.6930 - val_loss: 1.4706 - val_acc: 0.4962\n",
      "Epoch 29/50\n",
      "50000/50000 [==============================] - 3s 57us/step - loss: 0.8989 - acc: 0.6994 - val_loss: 1.4640 - val_acc: 0.4974\n",
      "Epoch 30/50\n",
      "50000/50000 [==============================] - 3s 57us/step - loss: 0.8770 - acc: 0.7070 - val_loss: 1.4674 - val_acc: 0.4969\n",
      "Epoch 31/50\n",
      "50000/50000 [==============================] - 3s 56us/step - loss: 0.8575 - acc: 0.7148 - val_loss: 1.4676 - val_acc: 0.5003\n",
      "Epoch 32/50\n",
      "50000/50000 [==============================] - 3s 56us/step - loss: 0.8398 - acc: 0.7217 - val_loss: 1.4714 - val_acc: 0.5005\n",
      "Epoch 33/50\n",
      "50000/50000 [==============================] - 3s 56us/step - loss: 0.8190 - acc: 0.7322 - val_loss: 1.4941 - val_acc: 0.4921\n",
      "Epoch 34/50\n",
      "50000/50000 [==============================] - 3s 57us/step - loss: 0.8014 - acc: 0.7376 - val_loss: 1.4935 - val_acc: 0.4999\n",
      "Epoch 35/50\n",
      "50000/50000 [==============================] - 3s 56us/step - loss: 0.7818 - acc: 0.7455 - val_loss: 1.4950 - val_acc: 0.4961\n",
      "Epoch 36/50\n",
      "50000/50000 [==============================] - 3s 57us/step - loss: 0.7635 - acc: 0.7541 - val_loss: 1.5202 - val_acc: 0.4932\n",
      "Epoch 37/50\n",
      "50000/50000 [==============================] - 3s 57us/step - loss: 0.7449 - acc: 0.7610 - val_loss: 1.5151 - val_acc: 0.4932\n",
      "Epoch 38/50\n",
      "50000/50000 [==============================] - 3s 57us/step - loss: 0.7254 - acc: 0.7689 - val_loss: 1.5260 - val_acc: 0.4968\n",
      "Epoch 39/50\n",
      "50000/50000 [==============================] - 3s 57us/step - loss: 0.7051 - acc: 0.7761 - val_loss: 1.5317 - val_acc: 0.4974\n",
      "Epoch 40/50\n",
      "50000/50000 [==============================] - 3s 57us/step - loss: 0.6869 - acc: 0.7835 - val_loss: 1.5337 - val_acc: 0.4991\n",
      "Epoch 41/50\n",
      "50000/50000 [==============================] - 3s 57us/step - loss: 0.6703 - acc: 0.7916 - val_loss: 1.5498 - val_acc: 0.4917\n",
      "Epoch 42/50\n",
      "50000/50000 [==============================] - 3s 57us/step - loss: 0.6528 - acc: 0.7966 - val_loss: 1.5509 - val_acc: 0.4970\n",
      "Epoch 43/50\n",
      "50000/50000 [==============================] - 3s 56us/step - loss: 0.6329 - acc: 0.8041 - val_loss: 1.5785 - val_acc: 0.4893\n",
      "Epoch 44/50\n",
      "50000/50000 [==============================] - 3s 57us/step - loss: 0.6132 - acc: 0.8128 - val_loss: 1.5668 - val_acc: 0.4983\n",
      "Epoch 45/50\n",
      "50000/50000 [==============================] - 3s 57us/step - loss: 0.5960 - acc: 0.8208 - val_loss: 1.6036 - val_acc: 0.4928\n",
      "Epoch 46/50\n",
      "50000/50000 [==============================] - 3s 57us/step - loss: 0.5815 - acc: 0.8264 - val_loss: 1.6196 - val_acc: 0.4892\n",
      "Epoch 47/50\n",
      "50000/50000 [==============================] - 3s 59us/step - loss: 0.5630 - acc: 0.8329 - val_loss: 1.6147 - val_acc: 0.4919\n",
      "Epoch 48/50\n",
      "50000/50000 [==============================] - 3s 57us/step - loss: 0.5444 - acc: 0.8409 - val_loss: 1.6276 - val_acc: 0.4903\n",
      "Epoch 49/50\n",
      "50000/50000 [==============================] - 3s 57us/step - loss: 0.5284 - acc: 0.8469 - val_loss: 1.6406 - val_acc: 0.4873\n"
     ]
    },
    {
     "name": "stdout",
     "output_type": "stream",
     "text": [
      "Epoch 50/50\n",
      "50000/50000 [==============================] - 3s 57us/step - loss: 0.5120 - acc: 0.8537 - val_loss: 1.7017 - val_acc: 0.4897\n",
      "10000/10000 [==============================] - 1s 109us/step\n"
     ]
    }
   ],
   "source": [
    "\"\"\"\n",
    "# 載入 Callbacks, 並將監控目標設為 validation loss, 且只存最佳參數時的模型\n",
    "\"\"\"\n",
    "from keras.callbacks import ModelCheckpoint\n",
    "\n",
    "model_ckpt = ModelCheckpoint(filepath=\"./tmp.h5\", \n",
    "                             monitor=\"val_loss\", \n",
    "                             save_best_only=False,)\n",
    "\n",
    "model = build_mlp(input_shape=x_train.shape[1:])\n",
    "model.summary()\n",
    "optimizer = keras.optimizers.SGD(lr=LEARNING_RATE, nesterov=True, momentum=MOMENTUM)\n",
    "model.compile(loss=\"categorical_crossentropy\", metrics=[\"accuracy\"], optimizer=optimizer)\n",
    "\n",
    "model.fit(x_train, y_train, \n",
    "          epochs=EPOCHS, \n",
    "          batch_size=BATCH_SIZE, \n",
    "          validation_data=(x_test, y_test), \n",
    "          shuffle=True,\n",
    "          callbacks=[model_ckpt]\n",
    "         )\n",
    "\n",
    "# Collect results\n",
    "train_loss = model.history.history[\"loss\"]\n",
    "valid_loss = model.history.history[\"val_loss\"]\n",
    "train_acc = model.history.history[\"acc\"]\n",
    "valid_acc = model.history.history[\"val_acc\"]\n",
    "\n",
    "# Load back\n",
    "model = keras.models.load_model(\"./tmp.h5\")\n",
    "loss_loadback, acc_loadback = model.evaluate(x_test, y_test)"
   ]
  },
  {
   "cell_type": "code",
   "execution_count": 15,
   "metadata": {
    "scrolled": true
   },
   "outputs": [
    {
     "data": {
      "image/png": "[encoded data removed]",
      "text/plain": [
       "<Figure size 432x288 with 1 Axes>"
      ]
     },
     "metadata": {
      "needs_background": "light"
     },
     "output_type": "display_data"
    },
    {
     "data": {
      "image/png": "[encoded data removed]",
      "text/plain": [
       "<Figure size 432x288 with 1 Axes>"
      ]
     },
     "metadata": {
      "needs_background": "light"
     },
     "output_type": "display_data"
    }
   ],
   "source": [
    "import matplotlib.pyplot as plt\n",
    "%matplotlib inline\n",
    "\n",
    "plt.plot(range(len(train_loss)), train_loss, label=\"train loss\")\n",
    "plt.plot(range(len(valid_loss)), valid_loss, label=\"valid loss\")\n",
    "plt.hlines(y=loss_loadback, xmin=0, xmax=len(train_loss), colors='r', linestyles='--')\n",
    "plt.legend()\n",
    "plt.title(\"Loss\")\n",
    "plt.show()\n",
    "\n",
    "plt.plot(range(len(train_acc)), train_acc, label=\"train accuracy\")\n",
    "plt.plot(range(len(valid_acc)), valid_acc, label=\"valid accuracy\")\n",
    "plt.hlines(y=acc_loadback, xmin=0, xmax=len(train_loss), colors='r', linestyles='--')\n",
    "plt.legend()\n",
    "plt.title(\"Accuracy\")\n",
    "plt.show()"
   ]
  },
  {
   "cell_type": "markdown",
   "metadata": {},
   "source": [
    "# 試比較 save_best_only 與否的差異\n",
    "\n",
    "# 請僅存入將 save_weights_only 設定為 True, 並嘗試 reset ipynb 並將模型與權重重新建回並預測 x_test\n",
    "## If I set save_weights_only=True, then when I use load_model() to load the model in another process, it will raise the 'Cannot create group in read only mode.' error."
   ]
  }
 ],
 "metadata": {
  "kernelspec": {
   "display_name": "Python 3",
   "language": "python",
   "name": "python3"
  },
  "language_info": {
   "codemirror_mode": {
    "name": "ipython",
    "version": 3
   },
   "file_extension": ".py",
   "mimetype": "text/x-python",
   "name": "python",
   "nbconvert_exporter": "python",
   "pygments_lexer": "ipython3",
   "version": "3.7.3"
  }
 },
 "nbformat": 4,
 "nbformat_minor": 2
}
