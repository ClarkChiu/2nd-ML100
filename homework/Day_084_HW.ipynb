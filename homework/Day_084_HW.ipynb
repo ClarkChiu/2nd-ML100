{
 "cells": [
  {
   "cell_type": "markdown",
   "metadata": {},
   "source": [
    "## Work\n",
    "### 請結合前面的知識與程式碼，比較不同的 regularization 的組合對訓練的結果與影響：如 dropout, regularizers, batch-normalization 等"
   ]
  },
  {
   "cell_type": "code",
   "execution_count": 1,
   "metadata": {},
   "outputs": [
    {
     "name": "stderr",
     "output_type": "stream",
     "text": [
      "Using TensorFlow backend.\n"
     ]
    }
   ],
   "source": [
    "import os\n",
    "import keras\n",
    "import itertools\n",
    "# Disable GPU\n",
    "os.environ[\"CUDA_VISIBLE_DEVICES\"] = \"\""
   ]
  },
  {
   "cell_type": "code",
   "execution_count": 2,
   "metadata": {},
   "outputs": [],
   "source": [
    "train, test = keras.datasets.cifar10.load_data()"
   ]
  },
  {
   "cell_type": "code",
   "execution_count": 3,
   "metadata": {},
   "outputs": [],
   "source": [
    "## 資料前處理\n",
    "def preproc_x(x, flatten=True):\n",
    "    x = x / 255.\n",
    "    if flatten:\n",
    "        x = x.reshape((len(x), -1))\n",
    "    return x\n",
    "\n",
    "def preproc_y(y, num_classes=10):\n",
    "    if y.shape[-1] == 1:\n",
    "        y = keras.utils.to_categorical(y, num_classes)\n",
    "    return y    "
   ]
  },
  {
   "cell_type": "code",
   "execution_count": 4,
   "metadata": {},
   "outputs": [],
   "source": [
    "x_train, y_train = train\n",
    "x_test, y_test = test\n",
    "\n",
    "# Preproc the inputs\n",
    "x_train = preproc_x(x_train)\n",
    "x_test = preproc_x(x_test)\n",
    "\n",
    "# Preprc the outputs\n",
    "y_train = preproc_y(y_train)\n",
    "y_test = preproc_y(y_test)"
   ]
  },
  {
   "cell_type": "code",
   "execution_count": 5,
   "metadata": {},
   "outputs": [],
   "source": [
    "from keras.layers import BatchNormalization\n",
    "\n",
    "\"\"\"\n",
    "建立神經網路，並加入 BN layer\n",
    "\"\"\"\n",
    "def build_mlp(input_shape, output_units=10, num_neurons=[512, 256, 128]):\n",
    "    input_layer = keras.layers.Input(input_shape)\n",
    "    \n",
    "    for i, n_units in enumerate(num_neurons):\n",
    "        if i == 0:\n",
    "            x = keras.layers.Dense(units=n_units, \n",
    "                                   activation=\"relu\", \n",
    "                                   name=\"hidden_layer\"+str(i+1))(input_layer)\n",
    "            x = BatchNormalization()(x)\n",
    "        else:\n",
    "            x = keras.layers.Dense(units=n_units, \n",
    "                                   activation=\"relu\", \n",
    "                                   name=\"hidden_layer\"+str(i+1))(x)\n",
    "            x = BatchNormalization()(x)\n",
    "    \n",
    "    out = keras.layers.Dense(units=output_units, activation=\"softmax\", name=\"output\")(x)\n",
    "    \n",
    "    model = keras.models.Model(inputs=[input_layer], outputs=[out])\n",
    "    return model"
   ]
  },
  {
   "cell_type": "code",
   "execution_count": 6,
   "metadata": {},
   "outputs": [],
   "source": [
    "## 超參數設定\n",
    "LEARNING_RATE = 1e-3\n",
    "EPOCHS = 50\n",
    "BATCH_SIZE = 1024\n",
    "MOMENTUM = 0.95"
   ]
  },
  {
   "cell_type": "code",
   "execution_count": 8,
   "metadata": {
    "scrolled": true
   },
   "outputs": [
    {
     "name": "stderr",
     "output_type": "stream",
     "text": [
      "WARNING: Logging before flag parsing goes to stderr.\n",
      "W0804 20:08:58.813901  7372 deprecation_wrapper.py:119] From D:\\Software\\Anaconda3\\lib\\site-packages\\keras\\backend\\tensorflow_backend.py:74: The name tf.get_default_graph is deprecated. Please use tf.compat.v1.get_default_graph instead.\n",
      "\n",
      "W0804 20:08:58.831854  7372 deprecation_wrapper.py:119] From D:\\Software\\Anaconda3\\lib\\site-packages\\keras\\backend\\tensorflow_backend.py:517: The name tf.placeholder is deprecated. Please use tf.compat.v1.placeholder instead.\n",
      "\n",
      "W0804 20:08:58.835845  7372 deprecation_wrapper.py:119] From D:\\Software\\Anaconda3\\lib\\site-packages\\keras\\backend\\tensorflow_backend.py:4138: The name tf.random_uniform is deprecated. Please use tf.random.uniform instead.\n",
      "\n",
      "W0804 20:08:58.963501  7372 deprecation_wrapper.py:119] From D:\\Software\\Anaconda3\\lib\\site-packages\\keras\\backend\\tensorflow_backend.py:133: The name tf.placeholder_with_default is deprecated. Please use tf.compat.v1.placeholder_with_default instead.\n",
      "\n",
      "W0804 20:08:59.160511  7372 deprecation_wrapper.py:119] From D:\\Software\\Anaconda3\\lib\\site-packages\\keras\\optimizers.py:790: The name tf.train.Optimizer is deprecated. Please use tf.compat.v1.train.Optimizer instead.\n",
      "\n",
      "W0804 20:08:59.166493  7372 deprecation_wrapper.py:119] From D:\\Software\\Anaconda3\\lib\\site-packages\\keras\\backend\\tensorflow_backend.py:3295: The name tf.log is deprecated. Please use tf.math.log instead.\n",
      "\n",
      "W0804 20:08:59.259821  7372 deprecation.py:323] From D:\\Software\\Anaconda3\\lib\\site-packages\\tensorflow\\python\\ops\\math_grad.py:1250: add_dispatch_support.<locals>.wrapper (from tensorflow.python.ops.array_ops) is deprecated and will be removed in a future version.\n",
      "Instructions for updating:\n",
      "Use tf.where in 2.0, which has the same broadcast rule as np.where\n"
     ]
    },
    {
     "name": "stdout",
     "output_type": "stream",
     "text": [
      "_________________________________________________________________\n",
      "Layer (type)                 Output Shape              Param #   \n",
      "=================================================================\n",
      "input_1 (InputLayer)         (None, 3072)              0         \n",
      "_________________________________________________________________\n",
      "hidden_layer1 (Dense)        (None, 512)               1573376   \n",
      "_________________________________________________________________\n",
      "batch_normalization_1 (Batch (None, 512)               2048      \n",
      "_________________________________________________________________\n",
      "hidden_layer2 (Dense)        (None, 256)               131328    \n",
      "_________________________________________________________________\n",
      "batch_normalization_2 (Batch (None, 256)               1024      \n",
      "_________________________________________________________________\n",
      "hidden_layer3 (Dense)        (None, 128)               32896     \n",
      "_________________________________________________________________\n",
      "batch_normalization_3 (Batch (None, 128)               512       \n",
      "_________________________________________________________________\n",
      "output (Dense)               (None, 10)                1290      \n",
      "=================================================================\n",
      "Total params: 1,742,474\n",
      "Trainable params: 1,740,682\n",
      "Non-trainable params: 1,792\n",
      "_________________________________________________________________\n",
      "Train on 50000 samples, validate on 10000 samples\n",
      "Epoch 1/50\n",
      "50000/50000 [==============================] - 8s 160us/step - loss: 1.7520 - acc: 0.3883 - val_loss: 1.8191 - val_acc: 0.3707\n",
      "Epoch 2/50\n",
      "50000/50000 [==============================] - 3s 59us/step - loss: 1.4934 - acc: 0.4739 - val_loss: 2.1659 - val_acc: 0.2815\n",
      "Epoch 3/50\n",
      "50000/50000 [==============================] - 3s 59us/step - loss: 1.3901 - acc: 0.5114 - val_loss: 1.7962 - val_acc: 0.3710\n",
      "Epoch 4/50\n",
      "50000/50000 [==============================] - 3s 59us/step - loss: 1.3076 - acc: 0.5388 - val_loss: 1.9865 - val_acc: 0.3466\n",
      "Epoch 5/50\n",
      "50000/50000 [==============================] - 3s 59us/step - loss: 1.2417 - acc: 0.5632 - val_loss: 1.9204 - val_acc: 0.3294\n",
      "Epoch 6/50\n",
      "50000/50000 [==============================] - 3s 60us/step - loss: 1.1945 - acc: 0.5809 - val_loss: 1.7870 - val_acc: 0.3952\n",
      "Epoch 7/50\n",
      "50000/50000 [==============================] - 3s 59us/step - loss: 1.1452 - acc: 0.5957 - val_loss: 2.0602 - val_acc: 0.3301\n",
      "Epoch 8/50\n",
      "50000/50000 [==============================] - 3s 59us/step - loss: 1.0996 - acc: 0.6138 - val_loss: 1.8976 - val_acc: 0.3843\n",
      "Epoch 9/50\n",
      "50000/50000 [==============================] - 3s 59us/step - loss: 1.0452 - acc: 0.6350 - val_loss: 1.8323 - val_acc: 0.3914\n",
      "Epoch 10/50\n",
      "50000/50000 [==============================] - 3s 59us/step - loss: 1.0059 - acc: 0.6467 - val_loss: 1.8262 - val_acc: 0.3818\n",
      "Epoch 11/50\n",
      "50000/50000 [==============================] - 3s 59us/step - loss: 0.9759 - acc: 0.6592 - val_loss: 2.2959 - val_acc: 0.3163\n",
      "Epoch 12/50\n",
      "50000/50000 [==============================] - 3s 59us/step - loss: 0.9325 - acc: 0.6742 - val_loss: 1.9486 - val_acc: 0.3834\n",
      "Epoch 13/50\n",
      "50000/50000 [==============================] - 3s 59us/step - loss: 0.8957 - acc: 0.6882 - val_loss: 1.9794 - val_acc: 0.3942\n",
      "Epoch 14/50\n",
      "50000/50000 [==============================] - 3s 59us/step - loss: 0.8671 - acc: 0.6974 - val_loss: 1.9494 - val_acc: 0.4032\n",
      "Epoch 15/50\n",
      "50000/50000 [==============================] - 3s 59us/step - loss: 0.8274 - acc: 0.7090 - val_loss: 1.9807 - val_acc: 0.3907\n",
      "Epoch 16/50\n",
      "50000/50000 [==============================] - 3s 59us/step - loss: 0.7801 - acc: 0.7264 - val_loss: 1.8754 - val_acc: 0.4021\n",
      "Epoch 17/50\n",
      "50000/50000 [==============================] - 3s 59us/step - loss: 0.7507 - acc: 0.7380 - val_loss: 2.0559 - val_acc: 0.3985\n",
      "Epoch 18/50\n",
      "50000/50000 [==============================] - 3s 59us/step - loss: 0.7194 - acc: 0.7500 - val_loss: 1.9814 - val_acc: 0.3876\n",
      "Epoch 19/50\n",
      "50000/50000 [==============================] - 3s 60us/step - loss: 0.6819 - acc: 0.7622 - val_loss: 1.9247 - val_acc: 0.4288\n",
      "Epoch 20/50\n",
      "50000/50000 [==============================] - 3s 59us/step - loss: 0.6472 - acc: 0.7737 - val_loss: 1.9514 - val_acc: 0.4306\n",
      "Epoch 21/50\n",
      "50000/50000 [==============================] - 3s 59us/step - loss: 0.6286 - acc: 0.7822 - val_loss: 2.1109 - val_acc: 0.4250\n",
      "Epoch 22/50\n",
      "50000/50000 [==============================] - 3s 59us/step - loss: 0.5855 - acc: 0.7982 - val_loss: 2.1301 - val_acc: 0.4277\n",
      "Epoch 23/50\n",
      "50000/50000 [==============================] - 3s 59us/step - loss: 0.5540 - acc: 0.8086 - val_loss: 2.1742 - val_acc: 0.4121\n",
      "Epoch 24/50\n",
      "50000/50000 [==============================] - 3s 59us/step - loss: 0.5247 - acc: 0.8201 - val_loss: 2.4277 - val_acc: 0.3993\n",
      "Epoch 25/50\n",
      "50000/50000 [==============================] - 3s 59us/step - loss: 0.4968 - acc: 0.8300 - val_loss: 2.1192 - val_acc: 0.4386\n",
      "Epoch 26/50\n",
      "50000/50000 [==============================] - 3s 59us/step - loss: 0.4568 - acc: 0.8464 - val_loss: 2.0608 - val_acc: 0.4458\n",
      "Epoch 27/50\n",
      "50000/50000 [==============================] - 3s 59us/step - loss: 0.4336 - acc: 0.8529 - val_loss: 2.0147 - val_acc: 0.4688\n",
      "Epoch 28/50\n",
      "50000/50000 [==============================] - 3s 59us/step - loss: 0.4090 - acc: 0.8625 - val_loss: 2.6003 - val_acc: 0.4131\n",
      "Epoch 29/50\n",
      "50000/50000 [==============================] - 3s 59us/step - loss: 0.3828 - acc: 0.8709 - val_loss: 2.0732 - val_acc: 0.4688\n",
      "Epoch 30/50\n",
      "50000/50000 [==============================] - 3s 59us/step - loss: 0.3543 - acc: 0.8818 - val_loss: 2.1981 - val_acc: 0.4616\n",
      "Epoch 31/50\n",
      "50000/50000 [==============================] - 3s 59us/step - loss: 0.3382 - acc: 0.8888 - val_loss: 2.2833 - val_acc: 0.4469\n",
      "Epoch 32/50\n",
      "50000/50000 [==============================] - 3s 59us/step - loss: 0.3276 - acc: 0.8926 - val_loss: 2.3699 - val_acc: 0.4637\n",
      "Epoch 33/50\n",
      "50000/50000 [==============================] - 3s 59us/step - loss: 0.3069 - acc: 0.8982 - val_loss: 2.5678 - val_acc: 0.4484\n",
      "Epoch 34/50\n",
      "50000/50000 [==============================] - 3s 59us/step - loss: 0.2858 - acc: 0.9044 - val_loss: 2.3962 - val_acc: 0.4546\n",
      "Epoch 35/50\n",
      "50000/50000 [==============================] - 3s 59us/step - loss: 0.2706 - acc: 0.9106 - val_loss: 2.5122 - val_acc: 0.4387\n",
      "Epoch 36/50\n",
      "50000/50000 [==============================] - 3s 59us/step - loss: 0.2433 - acc: 0.9220 - val_loss: 2.4689 - val_acc: 0.4703\n",
      "Epoch 37/50\n",
      "50000/50000 [==============================] - 3s 59us/step - loss: 0.2201 - acc: 0.9308 - val_loss: 2.5692 - val_acc: 0.4590\n",
      "Epoch 38/50\n",
      "50000/50000 [==============================] - 3s 59us/step - loss: 0.2255 - acc: 0.9281 - val_loss: 2.8185 - val_acc: 0.4411\n",
      "Epoch 39/50\n",
      "50000/50000 [==============================] - 3s 59us/step - loss: 0.2078 - acc: 0.9334 - val_loss: 2.7122 - val_acc: 0.4596\n",
      "Epoch 40/50\n",
      "50000/50000 [==============================] - 3s 59us/step - loss: 0.1802 - acc: 0.9443 - val_loss: 2.7895 - val_acc: 0.4612\n",
      "Epoch 41/50\n",
      "50000/50000 [==============================] - 3s 59us/step - loss: 0.1667 - acc: 0.9497 - val_loss: 2.7399 - val_acc: 0.4679\n",
      "Epoch 42/50\n",
      "50000/50000 [==============================] - 3s 59us/step - loss: 0.1544 - acc: 0.9534 - val_loss: 2.8245 - val_acc: 0.4610\n",
      "Epoch 43/50\n",
      "50000/50000 [==============================] - 3s 59us/step - loss: 0.1539 - acc: 0.9538 - val_loss: 2.9178 - val_acc: 0.4619\n",
      "Epoch 44/50\n",
      "50000/50000 [==============================] - 3s 59us/step - loss: 0.1575 - acc: 0.9501 - val_loss: 2.7800 - val_acc: 0.4637\n",
      "Epoch 45/50\n",
      "50000/50000 [==============================] - 3s 59us/step - loss: 0.1509 - acc: 0.9528 - val_loss: 3.0405 - val_acc: 0.4509\n",
      "Epoch 46/50\n",
      "50000/50000 [==============================] - 3s 59us/step - loss: 0.1542 - acc: 0.9519 - val_loss: 2.9717 - val_acc: 0.4580\n",
      "Epoch 47/50\n",
      "50000/50000 [==============================] - 3s 59us/step - loss: 0.1378 - acc: 0.9567 - val_loss: 3.0197 - val_acc: 0.4603\n",
      "Epoch 48/50\n",
      "50000/50000 [==============================] - 3s 59us/step - loss: 0.1239 - acc: 0.9623 - val_loss: 2.9826 - val_acc: 0.4755\n",
      "Epoch 49/50\n",
      "50000/50000 [==============================] - 3s 59us/step - loss: 0.1182 - acc: 0.9640 - val_loss: 3.1863 - val_acc: 0.4520\n"
     ]
    },
    {
     "name": "stdout",
     "output_type": "stream",
     "text": [
      "Epoch 50/50\n",
      "50000/50000 [==============================] - 3s 59us/step - loss: 0.1150 - acc: 0.9656 - val_loss: 3.2243 - val_acc: 0.4574\n"
     ]
    }
   ],
   "source": [
    "model = build_mlp(input_shape=x_train.shape[1:])\n",
    "model.summary()\n",
    "optimizer = keras.optimizers.Adam(lr=LEARNING_RATE, beta_1=0.9, beta_2=0.999, epsilon=None, decay=0.0, amsgrad=False)\n",
    "model.compile(loss=\"categorical_crossentropy\", metrics=[\"accuracy\"], optimizer=optimizer)\n",
    "\n",
    "model.fit(x_train, y_train, \n",
    "          epochs=EPOCHS, \n",
    "          batch_size=BATCH_SIZE, \n",
    "          validation_data=(x_test, y_test), \n",
    "          shuffle=True)\n",
    "\n",
    "# Collect results\n",
    "train_loss = model.history.history[\"loss\"]\n",
    "valid_loss = model.history.history[\"val_loss\"]\n",
    "train_acc = model.history.history[\"acc\"]\n",
    "valid_acc = model.history.history[\"val_acc\"]"
   ]
  },
  {
   "cell_type": "code",
   "execution_count": 9,
   "metadata": {},
   "outputs": [
    {
     "data": {
      "image/png": "[encoded data removed]",
      "text/plain": [
       "<Figure size 432x288 with 1 Axes>"
      ]
     },
     "metadata": {
      "needs_background": "light"
     },
     "output_type": "display_data"
    },
    {
     "data": {
      "image/png": "[encoded data removed]",
      "text/plain": [
       "<Figure size 432x288 with 1 Axes>"
      ]
     },
     "metadata": {
      "needs_background": "light"
     },
     "output_type": "display_data"
    }
   ],
   "source": [
    "import matplotlib.pyplot as plt\n",
    "%matplotlib inline\n",
    "\n",
    "plt.plot(range(len(train_loss)), train_loss, label=\"train loss\")\n",
    "plt.plot(range(len(valid_loss)), valid_loss, label=\"valid loss\")\n",
    "plt.legend()\n",
    "plt.title(\"Loss\")\n",
    "plt.show()\n",
    "\n",
    "plt.plot(range(len(train_acc)), train_acc, label=\"train accuracy\")\n",
    "plt.plot(range(len(valid_acc)), valid_acc, label=\"valid accuracy\")\n",
    "plt.legend()\n",
    "plt.title(\"Accuracy\")\n",
    "plt.show()"
   ]
  },
  {
   "cell_type": "code",
   "execution_count": null,
   "metadata": {},
   "outputs": [],
   "source": []
  }
 ],
 "metadata": {
  "kernelspec": {
   "display_name": "Python 3",
   "language": "python",
   "name": "python3"
  },
  "language_info": {
   "codemirror_mode": {
    "name": "ipython",
    "version": 3
   },
   "file_extension": ".py",
   "mimetype": "text/x-python",
   "name": "python",
   "nbconvert_exporter": "python",
   "pygments_lexer": "ipython3",
   "version": "3.7.3"
  }
 },
 "nbformat": 4,
 "nbformat_minor": 2
}
