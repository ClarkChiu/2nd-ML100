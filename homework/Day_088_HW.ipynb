{
 "cells": [
  {
   "cell_type": "markdown",
   "metadata": {},
   "source": [
    "## Work\n",
    "1. 請嘗試寫一個 callback 用來記錄各類別在訓練過程中，對驗證集的 True Positive 與 True Negative"
   ]
  },
  {
   "cell_type": "code",
   "execution_count": 1,
   "metadata": {},
   "outputs": [
    {
     "name": "stderr",
     "output_type": "stream",
     "text": [
      "Using TensorFlow backend.\n"
     ]
    }
   ],
   "source": [
    "import os\n",
    "import keras\n",
    "\n",
    "# Disable GPU\n",
    "os.environ[\"CUDA_VISIBLE_DEVICES\"] = \"\""
   ]
  },
  {
   "cell_type": "code",
   "execution_count": 2,
   "metadata": {},
   "outputs": [],
   "source": [
    "train, test = keras.datasets.cifar10.load_data()"
   ]
  },
  {
   "cell_type": "code",
   "execution_count": 3,
   "metadata": {},
   "outputs": [],
   "source": [
    "## 資料前處理\n",
    "def preproc_x(x, flatten=True):\n",
    "    x = x / 255.\n",
    "    if flatten:\n",
    "        x = x.reshape((len(x), -1))\n",
    "    return x\n",
    "\n",
    "def preproc_y(y, num_classes=10):\n",
    "    if y.shape[-1] == 1:\n",
    "        y = keras.utils.to_categorical(y, num_classes)\n",
    "    return y    "
   ]
  },
  {
   "cell_type": "code",
   "execution_count": 4,
   "metadata": {},
   "outputs": [],
   "source": [
    "x_train, y_train = train\n",
    "x_test, y_test = test\n",
    "\n",
    "# Preproc the inputs\n",
    "x_train = preproc_x(x_train)\n",
    "x_test = preproc_x(x_test)\n",
    "\n",
    "# Preprc the outputs\n",
    "y_train = preproc_y(y_train)\n",
    "y_test = preproc_y(y_test)"
   ]
  },
  {
   "cell_type": "code",
   "execution_count": 5,
   "metadata": {},
   "outputs": [],
   "source": [
    "from keras.layers import BatchNormalization\n",
    "from sklearn.metrics import confusion_matrix\n",
    "\n",
    "def build_mlp(input_shape, output_units=10, num_neurons=[256, 256, 256]):\n",
    "    input_layer = keras.layers.Input(input_shape)\n",
    "    \n",
    "    for i, n_units in enumerate(num_neurons):\n",
    "        if i == 0:\n",
    "            x = keras.layers.Dense(units=n_units, \n",
    "                                   activation=\"relu\", \n",
    "                                   name=\"hidden_layer\"+str(i+1))(input_layer)\n",
    "            x = BatchNormalization()(x)\n",
    "        else:\n",
    "            x = keras.layers.Dense(units=n_units, \n",
    "                                   activation=\"relu\", \n",
    "                                   name=\"hidden_layer\"+str(i+1))(x)\n",
    "            x = BatchNormalization()(x)\n",
    "    \n",
    "    out = keras.layers.Dense(units=output_units, activation=\"softmax\", name=\"output\")(x)\n",
    "    \n",
    "    model = keras.models.Model(inputs=[input_layer], outputs=[out])\n",
    "    return model"
   ]
  },
  {
   "cell_type": "code",
   "execution_count": 6,
   "metadata": {},
   "outputs": [],
   "source": [
    "## 超參數設定\n",
    "LEARNING_RATE = 1e-3\n",
    "EPOCHS = 25\n",
    "BATCH_SIZE = 1024\n",
    "MOMENTUM = 0.95"
   ]
  },
  {
   "cell_type": "code",
   "execution_count": 7,
   "metadata": {},
   "outputs": [],
   "source": [
    "# 載入 Callbacks\n",
    "from keras.callbacks import Callback\n",
    "\n",
    "# Record_fp_tp\n",
    "class Record_tp_tn(Callback):\n",
    "    def on_train_begin(self, epoch, logs = {}):\n",
    "        logs = logs or {}\n",
    "        record_items = [\"val_auc\", \"val_f1sc\", \"val_fp\", \"val_fn\", \"val_tp\", \"val_tn\"]\n",
    "        for i in record_items:\n",
    "            if i not in self.params['metrics']:\n",
    "                self.params['metrics'].append(i)\n",
    "    \n",
    "    def on_epoch_end(self, epoch, logs = {}, thres=0.5):\n",
    "        logs = logs or {}\n",
    "        y_true = self.validation_data[1].argmax(axis = 1)\n",
    "        y_pred = self.model.predict(self.validation_data[0])\n",
    "        y_pred = (y_pred[:, 1] >= thres) * 1\n",
    "        \n",
    "        CM = confusion_matrix(y_true, y_pred)\n",
    "\n",
    "        TN = CM[0][0]\n",
    "        TP = CM[1][1]\n",
    "        logs['val_tp'] = TP\n",
    "        logs['val_tn'] = TN\n",
    "        \n",
    "        # logs[\"val_f1sc\"] = f1_score(y_true = y_true, y_pred = y_pred, average=\"weighted\")\n",
    "        \n",
    "rec_tptn = Record_tp_tn()"
   ]
  },
  {
   "cell_type": "code",
   "execution_count": 8,
   "metadata": {
    "scrolled": true
   },
   "outputs": [
    {
     "name": "stderr",
     "output_type": "stream",
     "text": [
      "WARNING: Logging before flag parsing goes to stderr.\n",
      "W0804 22:29:27.120019 17164 deprecation_wrapper.py:119] From D:\\Software\\Anaconda3\\lib\\site-packages\\keras\\backend\\tensorflow_backend.py:74: The name tf.get_default_graph is deprecated. Please use tf.compat.v1.get_default_graph instead.\n",
      "\n",
      "W0804 22:29:27.136977 17164 deprecation_wrapper.py:119] From D:\\Software\\Anaconda3\\lib\\site-packages\\keras\\backend\\tensorflow_backend.py:517: The name tf.placeholder is deprecated. Please use tf.compat.v1.placeholder instead.\n",
      "\n",
      "W0804 22:29:27.139966 17164 deprecation_wrapper.py:119] From D:\\Software\\Anaconda3\\lib\\site-packages\\keras\\backend\\tensorflow_backend.py:4138: The name tf.random_uniform is deprecated. Please use tf.random.uniform instead.\n",
      "\n",
      "W0804 22:29:27.223745 17164 deprecation_wrapper.py:119] From D:\\Software\\Anaconda3\\lib\\site-packages\\keras\\backend\\tensorflow_backend.py:133: The name tf.placeholder_with_default is deprecated. Please use tf.compat.v1.placeholder_with_default instead.\n",
      "\n",
      "W0804 22:29:27.453129 17164 deprecation_wrapper.py:119] From D:\\Software\\Anaconda3\\lib\\site-packages\\keras\\optimizers.py:790: The name tf.train.Optimizer is deprecated. Please use tf.compat.v1.train.Optimizer instead.\n",
      "\n",
      "W0804 22:29:27.460111 17164 deprecation_wrapper.py:119] From D:\\Software\\Anaconda3\\lib\\site-packages\\keras\\backend\\tensorflow_backend.py:3295: The name tf.log is deprecated. Please use tf.math.log instead.\n",
      "\n",
      "W0804 22:29:27.550868 17164 deprecation.py:323] From D:\\Software\\Anaconda3\\lib\\site-packages\\tensorflow\\python\\ops\\math_grad.py:1250: add_dispatch_support.<locals>.wrapper (from tensorflow.python.ops.array_ops) is deprecated and will be removed in a future version.\n",
      "Instructions for updating:\n",
      "Use tf.where in 2.0, which has the same broadcast rule as np.where\n"
     ]
    },
    {
     "name": "stdout",
     "output_type": "stream",
     "text": [
      "_________________________________________________________________\n",
      "Layer (type)                 Output Shape              Param #   \n",
      "=================================================================\n",
      "input_1 (InputLayer)         (None, 3072)              0         \n",
      "_________________________________________________________________\n",
      "hidden_layer1 (Dense)        (None, 256)               786688    \n",
      "_________________________________________________________________\n",
      "batch_normalization_1 (Batch (None, 256)               1024      \n",
      "_________________________________________________________________\n",
      "hidden_layer2 (Dense)        (None, 256)               65792     \n",
      "_________________________________________________________________\n",
      "batch_normalization_2 (Batch (None, 256)               1024      \n",
      "_________________________________________________________________\n",
      "hidden_layer3 (Dense)        (None, 256)               65792     \n",
      "_________________________________________________________________\n",
      "batch_normalization_3 (Batch (None, 256)               1024      \n",
      "_________________________________________________________________\n",
      "output (Dense)               (None, 10)                2570      \n",
      "=================================================================\n",
      "Total params: 923,914\n",
      "Trainable params: 922,378\n",
      "Non-trainable params: 1,536\n",
      "_________________________________________________________________\n",
      "Train on 50000 samples, validate on 10000 samples\n",
      "Epoch 1/25\n",
      "50000/50000 [==============================] - 6s 118us/step - loss: 2.2365 - acc: 0.2596 - val_loss: 2.1610 - val_acc: 0.3013\n",
      "Epoch 2/25\n",
      "50000/50000 [==============================] - 3s 52us/step - loss: 1.7699 - acc: 0.3774 - val_loss: 1.8602 - val_acc: 0.3592\n",
      "Epoch 3/25\n",
      "50000/50000 [==============================] - 3s 52us/step - loss: 1.6414 - acc: 0.4215 - val_loss: 1.6929 - val_acc: 0.4025\n",
      "Epoch 4/25\n",
      "50000/50000 [==============================] - 3s 53us/step - loss: 1.5675 - acc: 0.4478 - val_loss: 1.6416 - val_acc: 0.4177\n",
      "Epoch 5/25\n",
      "50000/50000 [==============================] - 3s 54us/step - loss: 1.5129 - acc: 0.4699 - val_loss: 1.6216 - val_acc: 0.4306\n",
      "Epoch 6/25\n",
      "50000/50000 [==============================] - 3s 54us/step - loss: 1.4676 - acc: 0.4843 - val_loss: 1.5933 - val_acc: 0.4345\n",
      "Epoch 7/25\n",
      "50000/50000 [==============================] - 3s 55us/step - loss: 1.4313 - acc: 0.4999 - val_loss: 1.5589 - val_acc: 0.4442\n",
      "Epoch 8/25\n",
      "50000/50000 [==============================] - 3s 54us/step - loss: 1.3970 - acc: 0.5118 - val_loss: 1.5305 - val_acc: 0.4586\n",
      "Epoch 9/25\n",
      "50000/50000 [==============================] - 3s 54us/step - loss: 1.3690 - acc: 0.5223 - val_loss: 1.5123 - val_acc: 0.4602\n",
      "Epoch 10/25\n",
      "50000/50000 [==============================] - 3s 54us/step - loss: 1.3417 - acc: 0.5324 - val_loss: 1.5041 - val_acc: 0.4633\n",
      "Epoch 11/25\n",
      "50000/50000 [==============================] - 3s 54us/step - loss: 1.3158 - acc: 0.5416 - val_loss: 1.4941 - val_acc: 0.4707\n",
      "Epoch 12/25\n",
      "50000/50000 [==============================] - 3s 54us/step - loss: 1.2926 - acc: 0.5503 - val_loss: 1.4915 - val_acc: 0.4702\n",
      "Epoch 13/25\n",
      "50000/50000 [==============================] - 3s 54us/step - loss: 1.2706 - acc: 0.5573 - val_loss: 1.4756 - val_acc: 0.4781\n",
      "Epoch 14/25\n",
      "50000/50000 [==============================] - 3s 55us/step - loss: 1.2506 - acc: 0.5659 - val_loss: 1.4763 - val_acc: 0.4755\n",
      "Epoch 15/25\n",
      "50000/50000 [==============================] - 3s 54us/step - loss: 1.2306 - acc: 0.5732 - val_loss: 1.4647 - val_acc: 0.4827\n",
      "Epoch 16/25\n",
      "50000/50000 [==============================] - 3s 55us/step - loss: 1.2106 - acc: 0.5790 - val_loss: 1.4592 - val_acc: 0.4816\n",
      "Epoch 17/25\n",
      "50000/50000 [==============================] - 3s 54us/step - loss: 1.1919 - acc: 0.5863 - val_loss: 1.4446 - val_acc: 0.4895\n",
      "Epoch 18/25\n",
      "50000/50000 [==============================] - 3s 55us/step - loss: 1.1705 - acc: 0.5949 - val_loss: 1.4620 - val_acc: 0.4895\n",
      "Epoch 19/25\n",
      "50000/50000 [==============================] - 3s 54us/step - loss: 1.1536 - acc: 0.5999 - val_loss: 1.4507 - val_acc: 0.4880\n",
      "Epoch 20/25\n",
      "50000/50000 [==============================] - 3s 55us/step - loss: 1.1353 - acc: 0.6073 - val_loss: 1.4439 - val_acc: 0.4881\n",
      "Epoch 21/25\n",
      "50000/50000 [==============================] - 3s 54us/step - loss: 1.1177 - acc: 0.6143 - val_loss: 1.4541 - val_acc: 0.4879\n",
      "Epoch 22/25\n",
      "50000/50000 [==============================] - 3s 55us/step - loss: 1.1002 - acc: 0.6210 - val_loss: 1.4475 - val_acc: 0.4870\n",
      "Epoch 23/25\n",
      "50000/50000 [==============================] - 3s 55us/step - loss: 1.0829 - acc: 0.6290 - val_loss: 1.4532 - val_acc: 0.4858\n",
      "Epoch 24/25\n",
      "50000/50000 [==============================] - 3s 55us/step - loss: 1.0666 - acc: 0.6344 - val_loss: 1.4441 - val_acc: 0.4965\n",
      "Epoch 25/25\n",
      "50000/50000 [==============================] - 3s 54us/step - loss: 1.0498 - acc: 0.6413 - val_loss: 1.4464 - val_acc: 0.4974\n"
     ]
    }
   ],
   "source": [
    "model = build_mlp(input_shape=x_train.shape[1:])\n",
    "model.summary()\n",
    "optimizer = keras.optimizers.SGD(lr=LEARNING_RATE, nesterov=True, momentum=MOMENTUM)\n",
    "model.compile(loss=\"categorical_crossentropy\", metrics=[\"accuracy\"], optimizer=optimizer)\n",
    "\n",
    "model.fit(x_train, y_train, \n",
    "          epochs=EPOCHS, \n",
    "          batch_size=BATCH_SIZE, \n",
    "          validation_data=(x_test, y_test), \n",
    "          shuffle=True,\n",
    "          callbacks=[rec_tptn]\n",
    "         )\n",
    "\n",
    "# Collect results\n",
    "train_loss = model.history.history[\"loss\"]\n",
    "valid_loss = model.history.history[\"val_loss\"]\n",
    "train_acc = model.history.history[\"acc\"]\n",
    "valid_acc = model.history.history[\"val_acc\"]\n",
    "\n",
    "\"\"\"Code Here\n",
    "將 tp/tn 從訓練完的模型中取出\n",
    "\"\"\"\n",
    "valid_tp = model.history.history['val_tp']\n",
    "valid_tn = model.history.history['val_tn']"
   ]
  },
  {
   "cell_type": "code",
   "execution_count": 9,
   "metadata": {},
   "outputs": [
    {
     "data": {
      "image/png": "[encoded data removed]",
      "text/plain": [
       "<Figure size 432x288 with 1 Axes>"
      ]
     },
     "metadata": {
      "needs_background": "light"
     },
     "output_type": "display_data"
    },
    {
     "data": {
      "image/png": "[encoded data removed]",
      "text/plain": [
       "<Figure size 432x288 with 1 Axes>"
      ]
     },
     "metadata": {
      "needs_background": "light"
     },
     "output_type": "display_data"
    },
    {
     "data": {
      "image/png": "[encoded data removed]",
      "text/plain": [
       "<Figure size 432x288 with 1 Axes>"
      ]
     },
     "metadata": {
      "needs_background": "light"
     },
     "output_type": "display_data"
    }
   ],
   "source": [
    "import matplotlib.pyplot as plt\n",
    "%matplotlib inline\n",
    "\n",
    "plt.plot(range(len(train_loss)), train_loss, label=\"train loss\")\n",
    "plt.plot(range(len(valid_loss)), valid_loss, label=\"valid loss\")\n",
    "plt.legend()\n",
    "plt.title(\"Loss\")\n",
    "plt.show()\n",
    "\n",
    "plt.plot(range(len(train_acc)), train_acc, label=\"train accuracy\")\n",
    "plt.plot(range(len(valid_acc)), valid_acc, label=\"valid accuracy\")\n",
    "plt.legend()\n",
    "plt.title(\"Accuracy\")\n",
    "plt.show()\n",
    "\n",
    "plt.plot(range(len(valid_tp)), valid_tp, label=\"valid tp\", color=\"navy\")\n",
    "plt.plot(range(len(valid_tn)), valid_tn, label=\"valid tn\", color=\"red\")\n",
    "plt.legend()\n",
    "plt.title(\"True positives and True Negatives\")\n",
    "plt.show()\n"
   ]
  }
 ],
 "metadata": {
  "kernelspec": {
   "display_name": "Python 3",
   "language": "python",
   "name": "python3"
  },
  "language_info": {
   "codemirror_mode": {
    "name": "ipython",
    "version": 3
   },
   "file_extension": ".py",
   "mimetype": "text/x-python",
   "name": "python",
   "nbconvert_exporter": "python",
   "pygments_lexer": "ipython3",
   "version": "3.7.3"
  }
 },
 "nbformat": 4,
 "nbformat_minor": 2
}
