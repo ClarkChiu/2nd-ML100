{
 "cells": [
  {
   "cell_type": "markdown",
   "metadata": {},
   "source": [
    "## Work\n",
    "1. 請比較使用不同層數以及不同 Dropout rate 對訓練的效果\n",
    "2. 將 optimizer 改成使用 Adam 並加上適當的 dropout rate 檢視結果"
   ]
  },
  {
   "cell_type": "code",
   "execution_count": 1,
   "metadata": {},
   "outputs": [
    {
     "name": "stderr",
     "output_type": "stream",
     "text": [
      "Using TensorFlow backend.\n"
     ]
    }
   ],
   "source": [
    "import os\n",
    "import keras\n",
    "import itertools\n",
    "# Disable GPU\n",
    "os.environ[\"CUDA_VISIBLE_DEVICES\"] = \"\""
   ]
  },
  {
   "cell_type": "code",
   "execution_count": 2,
   "metadata": {},
   "outputs": [],
   "source": [
    "train, test = keras.datasets.cifar10.load_data()"
   ]
  },
  {
   "cell_type": "code",
   "execution_count": 3,
   "metadata": {},
   "outputs": [],
   "source": [
    "## 資料前處理\n",
    "def preproc_x(x, flatten=True):\n",
    "    x = x / 255.\n",
    "    if flatten:\n",
    "        x = x.reshape((len(x), -1))\n",
    "    return x\n",
    "\n",
    "def preproc_y(y, num_classes=10):\n",
    "    if y.shape[-1] == 1:\n",
    "        y = keras.utils.to_categorical(y, num_classes)\n",
    "    return y    "
   ]
  },
  {
   "cell_type": "code",
   "execution_count": 4,
   "metadata": {},
   "outputs": [],
   "source": [
    "x_train, y_train = train\n",
    "x_test, y_test = test\n",
    "\n",
    "# Preproc the inputs\n",
    "x_train = preproc_x(x_train)\n",
    "x_test = preproc_x(x_test)\n",
    "\n",
    "# Preprc the outputs\n",
    "y_train = preproc_y(y_train)\n",
    "y_test = preproc_y(y_test)"
   ]
  },
  {
   "cell_type": "code",
   "execution_count": 5,
   "metadata": {},
   "outputs": [],
   "source": [
    "from keras.layers import Dropout\n",
    "\n",
    "\"\"\"\n",
    "建立神經網路，並加入 dropout layer\n",
    "\"\"\"\n",
    "def build_mlp(input_shape, output_units=10, num_neurons=[512, 256, 128, 128, 64], drp_ratio=0.2):\n",
    "    input_layer = keras.layers.Input(input_shape)\n",
    "    \n",
    "    for i, n_units in enumerate(num_neurons):\n",
    "        if i == 0:\n",
    "            x = keras.layers.Dense(units=n_units, \n",
    "                                   activation=\"relu\", \n",
    "                                   name=\"hidden_layer\"+str(i+1))(input_layer)\n",
    "            x = Dropout(drp_ratio)(x)\n",
    "        else:\n",
    "            x = keras.layers.Dense(units=n_units, \n",
    "                                   activation=\"relu\", \n",
    "                                   name=\"hidden_layer\"+str(i+1))(x)\n",
    "            x = Dropout(drp_ratio)(x)\n",
    "    \n",
    "    out = keras.layers.Dense(units=output_units, activation=\"softmax\", name=\"output\")(x)\n",
    "    \n",
    "    model = keras.models.Model(inputs=[input_layer], outputs=[out])\n",
    "    return model"
   ]
  },
  {
   "cell_type": "code",
   "execution_count": 6,
   "metadata": {},
   "outputs": [],
   "source": [
    "## 超參數設定\n",
    "LEARNING_RATE = 1e-3\n",
    "EPOCHS = 50\n",
    "BATCH_SIZE = 256\n",
    "MOMENTUM = 0.95\n",
    "Dropout_EXP = 0.1"
   ]
  },
  {
   "cell_type": "code",
   "execution_count": 7,
   "metadata": {
    "scrolled": true
   },
   "outputs": [
    {
     "name": "stderr",
     "output_type": "stream",
     "text": [
      "WARNING: Logging before flag parsing goes to stderr.\n",
      "W0804 18:11:21.949135 13288 deprecation_wrapper.py:119] From D:\\Software\\Anaconda3\\lib\\site-packages\\keras\\backend\\tensorflow_backend.py:74: The name tf.get_default_graph is deprecated. Please use tf.compat.v1.get_default_graph instead.\n",
      "\n",
      "W0804 18:11:21.972073 13288 deprecation_wrapper.py:119] From D:\\Software\\Anaconda3\\lib\\site-packages\\keras\\backend\\tensorflow_backend.py:517: The name tf.placeholder is deprecated. Please use tf.compat.v1.placeholder instead.\n",
      "\n",
      "W0804 18:11:21.975068 13288 deprecation_wrapper.py:119] From D:\\Software\\Anaconda3\\lib\\site-packages\\keras\\backend\\tensorflow_backend.py:4138: The name tf.random_uniform is deprecated. Please use tf.random.uniform instead.\n",
      "\n",
      "W0804 18:11:21.995012 13288 deprecation_wrapper.py:119] From D:\\Software\\Anaconda3\\lib\\site-packages\\keras\\backend\\tensorflow_backend.py:133: The name tf.placeholder_with_default is deprecated. Please use tf.compat.v1.placeholder_with_default instead.\n",
      "\n",
      "W0804 18:11:22.034374 13288 deprecation.py:506] From D:\\Software\\Anaconda3\\lib\\site-packages\\keras\\backend\\tensorflow_backend.py:3445: calling dropout (from tensorflow.python.ops.nn_ops) with keep_prob is deprecated and will be removed in a future version.\n",
      "Instructions for updating:\n",
      "Please use `rate` instead of `keep_prob`. Rate should be set to `rate = 1 - keep_prob`.\n",
      "W0804 18:11:22.236234 13288 deprecation_wrapper.py:119] From D:\\Software\\Anaconda3\\lib\\site-packages\\keras\\optimizers.py:790: The name tf.train.Optimizer is deprecated. Please use tf.compat.v1.train.Optimizer instead.\n",
      "\n",
      "W0804 18:11:22.242214 13288 deprecation_wrapper.py:119] From D:\\Software\\Anaconda3\\lib\\site-packages\\keras\\backend\\tensorflow_backend.py:3295: The name tf.log is deprecated. Please use tf.math.log instead.\n",
      "\n",
      "W0804 18:11:22.333969 13288 deprecation.py:323] From D:\\Software\\Anaconda3\\lib\\site-packages\\tensorflow\\python\\ops\\math_grad.py:1250: add_dispatch_support.<locals>.wrapper (from tensorflow.python.ops.array_ops) is deprecated and will be removed in a future version.\n",
      "Instructions for updating:\n",
      "Use tf.where in 2.0, which has the same broadcast rule as np.where\n"
     ]
    },
    {
     "name": "stdout",
     "output_type": "stream",
     "text": [
      "_________________________________________________________________\n",
      "Layer (type)                 Output Shape              Param #   \n",
      "=================================================================\n",
      "input_1 (InputLayer)         (None, 3072)              0         \n",
      "_________________________________________________________________\n",
      "hidden_layer1 (Dense)        (None, 512)               1573376   \n",
      "_________________________________________________________________\n",
      "dropout_1 (Dropout)          (None, 512)               0         \n",
      "_________________________________________________________________\n",
      "hidden_layer2 (Dense)        (None, 256)               131328    \n",
      "_________________________________________________________________\n",
      "dropout_2 (Dropout)          (None, 256)               0         \n",
      "_________________________________________________________________\n",
      "hidden_layer3 (Dense)        (None, 128)               32896     \n",
      "_________________________________________________________________\n",
      "dropout_3 (Dropout)          (None, 128)               0         \n",
      "_________________________________________________________________\n",
      "hidden_layer4 (Dense)        (None, 128)               16512     \n",
      "_________________________________________________________________\n",
      "dropout_4 (Dropout)          (None, 128)               0         \n",
      "_________________________________________________________________\n",
      "hidden_layer5 (Dense)        (None, 64)                8256      \n",
      "_________________________________________________________________\n",
      "dropout_5 (Dropout)          (None, 64)                0         \n",
      "_________________________________________________________________\n",
      "output (Dense)               (None, 10)                650       \n",
      "=================================================================\n",
      "Total params: 1,763,018\n",
      "Trainable params: 1,763,018\n",
      "Non-trainable params: 0\n",
      "_________________________________________________________________\n",
      "Train on 50000 samples, validate on 10000 samples\n",
      "Epoch 1/50\n",
      "50000/50000 [==============================] - 8s 151us/step - loss: 2.0335 - acc: 0.2378 - val_loss: 1.8722 - val_acc: 0.3097\n",
      "Epoch 2/50\n",
      "50000/50000 [==============================] - 4s 86us/step - loss: 1.8411 - acc: 0.3314 - val_loss: 1.7313 - val_acc: 0.3778\n",
      "Epoch 3/50\n",
      "50000/50000 [==============================] - 4s 84us/step - loss: 1.7701 - acc: 0.3629 - val_loss: 1.6699 - val_acc: 0.3980\n",
      "Epoch 4/50\n",
      "50000/50000 [==============================] - 4s 84us/step - loss: 1.7162 - acc: 0.3840 - val_loss: 1.6478 - val_acc: 0.4089\n",
      "Epoch 5/50\n",
      "50000/50000 [==============================] - 4s 84us/step - loss: 1.6633 - acc: 0.4056 - val_loss: 1.5804 - val_acc: 0.4352\n",
      "Epoch 6/50\n",
      "50000/50000 [==============================] - 4s 84us/step - loss: 1.6422 - acc: 0.4148 - val_loss: 1.5795 - val_acc: 0.4361\n",
      "Epoch 7/50\n",
      "50000/50000 [==============================] - 4s 84us/step - loss: 1.5995 - acc: 0.4285 - val_loss: 1.5624 - val_acc: 0.4437\n",
      "Epoch 8/50\n",
      "50000/50000 [==============================] - 4s 84us/step - loss: 1.5772 - acc: 0.4345 - val_loss: 1.5189 - val_acc: 0.4550\n",
      "Epoch 9/50\n",
      "50000/50000 [==============================] - 4s 85us/step - loss: 1.5583 - acc: 0.4404 - val_loss: 1.4817 - val_acc: 0.4722\n",
      "Epoch 10/50\n",
      "50000/50000 [==============================] - 4s 84us/step - loss: 1.5408 - acc: 0.4479 - val_loss: 1.4874 - val_acc: 0.4698\n",
      "Epoch 11/50\n",
      "50000/50000 [==============================] - 4s 84us/step - loss: 1.5233 - acc: 0.4565 - val_loss: 1.4691 - val_acc: 0.4783\n",
      "Epoch 12/50\n",
      "50000/50000 [==============================] - 4s 84us/step - loss: 1.5075 - acc: 0.4608 - val_loss: 1.4509 - val_acc: 0.4792\n",
      "Epoch 13/50\n",
      "50000/50000 [==============================] - 4s 84us/step - loss: 1.4911 - acc: 0.4664 - val_loss: 1.4550 - val_acc: 0.4817\n",
      "Epoch 14/50\n",
      "50000/50000 [==============================] - 4s 85us/step - loss: 1.4802 - acc: 0.4704 - val_loss: 1.4420 - val_acc: 0.4821\n",
      "Epoch 15/50\n",
      "50000/50000 [==============================] - 4s 84us/step - loss: 1.4673 - acc: 0.4763 - val_loss: 1.4712 - val_acc: 0.4755\n",
      "Epoch 16/50\n",
      "50000/50000 [==============================] - 4s 84us/step - loss: 1.4577 - acc: 0.4794 - val_loss: 1.4430 - val_acc: 0.4842\n",
      "Epoch 17/50\n",
      "50000/50000 [==============================] - 4s 85us/step - loss: 1.4462 - acc: 0.4824 - val_loss: 1.4543 - val_acc: 0.4798\n",
      "Epoch 18/50\n",
      "50000/50000 [==============================] - 4s 85us/step - loss: 1.4306 - acc: 0.4894 - val_loss: 1.4237 - val_acc: 0.4903\n",
      "Epoch 19/50\n",
      "50000/50000 [==============================] - 4s 83us/step - loss: 1.4248 - acc: 0.4919 - val_loss: 1.4187 - val_acc: 0.4960\n",
      "Epoch 20/50\n",
      "50000/50000 [==============================] - 4s 88us/step - loss: 1.4085 - acc: 0.4963 - val_loss: 1.4130 - val_acc: 0.5008\n",
      "Epoch 21/50\n",
      "50000/50000 [==============================] - 4s 86us/step - loss: 1.4080 - acc: 0.4970 - val_loss: 1.4116 - val_acc: 0.4974\n",
      "Epoch 22/50\n",
      "50000/50000 [==============================] - 4s 82us/step - loss: 1.3927 - acc: 0.5004 - val_loss: 1.3899 - val_acc: 0.5030\n",
      "Epoch 23/50\n",
      "50000/50000 [==============================] - 4s 82us/step - loss: 1.3894 - acc: 0.5032 - val_loss: 1.3878 - val_acc: 0.5063\n",
      "Epoch 24/50\n",
      "50000/50000 [==============================] - 4s 86us/step - loss: 1.3770 - acc: 0.5086 - val_loss: 1.3940 - val_acc: 0.5120\n",
      "Epoch 25/50\n",
      "50000/50000 [==============================] - 4s 85us/step - loss: 1.3721 - acc: 0.5111 - val_loss: 1.3945 - val_acc: 0.5012\n",
      "Epoch 26/50\n",
      "50000/50000 [==============================] - 4s 89us/step - loss: 1.3591 - acc: 0.5142 - val_loss: 1.4031 - val_acc: 0.5021\n",
      "Epoch 27/50\n",
      "50000/50000 [==============================] - 4s 86us/step - loss: 1.3600 - acc: 0.5153 - val_loss: 1.3877 - val_acc: 0.5126\n",
      "Epoch 28/50\n",
      "50000/50000 [==============================] - 4s 86us/step - loss: 1.3510 - acc: 0.5170 - val_loss: 1.3921 - val_acc: 0.5076\n",
      "Epoch 29/50\n",
      "50000/50000 [==============================] - 4s 89us/step - loss: 1.3409 - acc: 0.5215 - val_loss: 1.3895 - val_acc: 0.5078\n",
      "Epoch 30/50\n",
      "50000/50000 [==============================] - 4s 87us/step - loss: 1.3281 - acc: 0.5256 - val_loss: 1.3886 - val_acc: 0.5134\n",
      "Epoch 31/50\n",
      "50000/50000 [==============================] - 4s 85us/step - loss: 1.3188 - acc: 0.5295 - val_loss: 1.3655 - val_acc: 0.5160\n",
      "Epoch 32/50\n",
      "50000/50000 [==============================] - 4s 84us/step - loss: 1.3158 - acc: 0.5317 - val_loss: 1.3675 - val_acc: 0.5165\n",
      "Epoch 33/50\n",
      "50000/50000 [==============================] - 4s 84us/step - loss: 1.3040 - acc: 0.5335 - val_loss: 1.3948 - val_acc: 0.5066\n",
      "Epoch 34/50\n",
      "50000/50000 [==============================] - 4s 84us/step - loss: 1.3057 - acc: 0.5320 - val_loss: 1.3681 - val_acc: 0.5177\n",
      "Epoch 35/50\n",
      "50000/50000 [==============================] - 4s 85us/step - loss: 1.2969 - acc: 0.5360 - val_loss: 1.3709 - val_acc: 0.5164\n",
      "Epoch 36/50\n",
      "50000/50000 [==============================] - 4s 84us/step - loss: 1.2836 - acc: 0.5421 - val_loss: 1.3656 - val_acc: 0.5205\n",
      "Epoch 37/50\n",
      "50000/50000 [==============================] - 4s 84us/step - loss: 1.2877 - acc: 0.5424 - val_loss: 1.3864 - val_acc: 0.5138\n",
      "Epoch 38/50\n",
      "50000/50000 [==============================] - 4s 85us/step - loss: 1.2778 - acc: 0.5423 - val_loss: 1.3471 - val_acc: 0.5271\n",
      "Epoch 39/50\n",
      "50000/50000 [==============================] - 4s 85us/step - loss: 1.2727 - acc: 0.5450 - val_loss: 1.3572 - val_acc: 0.5169\n",
      "Epoch 40/50\n",
      "50000/50000 [==============================] - 4s 85us/step - loss: 1.2709 - acc: 0.5444 - val_loss: 1.3669 - val_acc: 0.5191\n",
      "Epoch 41/50\n",
      "50000/50000 [==============================] - 4s 85us/step - loss: 1.2578 - acc: 0.5511 - val_loss: 1.3565 - val_acc: 0.5257\n",
      "Epoch 42/50\n",
      "50000/50000 [==============================] - 4s 85us/step - loss: 1.2548 - acc: 0.5523 - val_loss: 1.3576 - val_acc: 0.5231\n",
      "Epoch 43/50\n",
      "50000/50000 [==============================] - 4s 85us/step - loss: 1.2454 - acc: 0.5551 - val_loss: 1.3593 - val_acc: 0.5223\n",
      "Epoch 44/50\n",
      "50000/50000 [==============================] - 4s 85us/step - loss: 1.2514 - acc: 0.5559 - val_loss: 1.3891 - val_acc: 0.5141\n",
      "Epoch 45/50\n",
      "50000/50000 [==============================] - 4s 85us/step - loss: 1.2442 - acc: 0.5543 - val_loss: 1.3633 - val_acc: 0.5244\n",
      "Epoch 46/50\n"
     ]
    },
    {
     "name": "stdout",
     "output_type": "stream",
     "text": [
      "50000/50000 [==============================] - 4s 84us/step - loss: 1.2400 - acc: 0.5585 - val_loss: 1.3538 - val_acc: 0.5262\n",
      "Epoch 47/50\n",
      "50000/50000 [==============================] - 4s 85us/step - loss: 1.2296 - acc: 0.5596 - val_loss: 1.3565 - val_acc: 0.5353\n",
      "Epoch 48/50\n",
      "50000/50000 [==============================] - 4s 84us/step - loss: 1.2266 - acc: 0.5618 - val_loss: 1.3492 - val_acc: 0.5281\n",
      "Epoch 49/50\n",
      "50000/50000 [==============================] - 4s 84us/step - loss: 1.2256 - acc: 0.5623 - val_loss: 1.3556 - val_acc: 0.5268\n",
      "Epoch 50/50\n",
      "50000/50000 [==============================] - 4s 85us/step - loss: 1.2311 - acc: 0.5601 - val_loss: 1.3475 - val_acc: 0.5303\n"
     ]
    }
   ],
   "source": [
    "model = build_mlp(input_shape=x_train.shape[1:], drp_ratio=Dropout_EXP)\n",
    "model.summary()\n",
    "optimizer = keras.optimizers.Adam(lr=LEARNING_RATE, beta_1=0.9, beta_2=0.999, epsilon=None, decay=0.0, amsgrad=False)\n",
    "model.compile(loss=\"categorical_crossentropy\", metrics=[\"accuracy\"], optimizer=optimizer)\n",
    "\n",
    "model.fit(x_train, y_train, \n",
    "          epochs=EPOCHS, \n",
    "          batch_size=BATCH_SIZE, \n",
    "          validation_data=(x_test, y_test), \n",
    "          shuffle=True)\n",
    "\n",
    "# Collect results\n",
    "train_loss = model.history.history[\"loss\"]\n",
    "valid_loss = model.history.history[\"val_loss\"]\n",
    "train_acc = model.history.history[\"acc\"]\n",
    "valid_acc = model.history.history[\"val_acc\"]"
   ]
  },
  {
   "cell_type": "code",
   "execution_count": 8,
   "metadata": {},
   "outputs": [
    {
     "data": {
      "image/png": "[encoded data removed]",
      "text/plain": [
       "<Figure size 432x288 with 1 Axes>"
      ]
     },
     "metadata": {
      "needs_background": "light"
     },
     "output_type": "display_data"
    },
    {
     "data": {
      "image/png": "[encoded data removed]",
      "text/plain": [
       "<Figure size 432x288 with 1 Axes>"
      ]
     },
     "metadata": {
      "needs_background": "light"
     },
     "output_type": "display_data"
    }
   ],
   "source": [
    "import matplotlib.pyplot as plt\n",
    "%matplotlib inline\n",
    "\n",
    "plt.plot(range(len(train_loss)), train_loss, label=\"train loss\")\n",
    "plt.plot(range(len(valid_loss)), valid_loss, label=\"valid loss\")\n",
    "plt.legend()\n",
    "plt.title(\"Loss\")\n",
    "plt.show()\n",
    "\n",
    "plt.plot(range(len(train_acc)), train_acc, label=\"train accuracy\")\n",
    "plt.plot(range(len(valid_acc)), valid_acc, label=\"valid accuracy\")\n",
    "plt.legend()\n",
    "plt.title(\"Accuracy\")\n",
    "plt.show()"
   ]
  }
 ],
 "metadata": {
  "kernelspec": {
   "display_name": "Python 3",
   "language": "python",
   "name": "python3"
  },
  "language_info": {
   "codemirror_mode": {
    "name": "ipython",
    "version": 3
   },
   "file_extension": ".py",
   "mimetype": "text/x-python",
   "name": "python",
   "nbconvert_exporter": "python",
   "pygments_lexer": "ipython3",
   "version": "3.7.3"
  }
 },
 "nbformat": 4,
 "nbformat_minor": 2
}
