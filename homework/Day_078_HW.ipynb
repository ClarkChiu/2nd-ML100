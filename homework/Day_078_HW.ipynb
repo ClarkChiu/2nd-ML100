{
 "cells": [
  {
   "cell_type": "markdown",
   "metadata": {},
   "source": [
    "## Work\n",
    "1. 請嘗試將 preproc_x 替換成以每筆資料的 min/max 進行標準化至 -1 ~ 1 間，再進行訓練\n",
    "2. 請嘗試將 mlp 疊更深 (e.g 5~10 層)，進行訓練後觀察 learning curve 的走勢\n",
    "3. (optional) 請改用 GPU 進行訓練 (如果你有 GPU 的話)，比較使用 CPU 與 GPU 的訓練速度"
   ]
  },
  {
   "cell_type": "code",
   "execution_count": 1,
   "metadata": {},
   "outputs": [],
   "source": [
    "## \n",
    "\"\"\"\n",
    "Your code here (optional)\n",
    "確認硬體資源\n",
    "\"\"\"\n",
    "# nvidia-smi"
   ]
  },
  {
   "cell_type": "code",
   "execution_count": 2,
   "metadata": {},
   "outputs": [
    {
     "name": "stderr",
     "output_type": "stream",
     "text": [
      "Using TensorFlow backend.\n"
     ]
    }
   ],
   "source": [
    "import os\n",
    "import keras\n",
    "from sklearn import preprocessing \n",
    "\n",
    "# 請嘗試設定 GPU：os.environ\n",
    "os.environ[\"CUDA_VISIBLE_DEVICES\"] = \"0\""
   ]
  },
  {
   "cell_type": "code",
   "execution_count": 3,
   "metadata": {},
   "outputs": [],
   "source": [
    "train, test = keras.datasets.cifar10.load_data()"
   ]
  },
  {
   "cell_type": "code",
   "execution_count": 4,
   "metadata": {},
   "outputs": [],
   "source": [
    "## 資料前處理\n",
    "def preproc_x(x):\n",
    "    # x = x / 255\n",
    "    min_max_scaler = preprocessing.MinMaxScaler(feature_range=(-1, 1))\n",
    "    x = min_max_scaler.fit_transform(x.reshape((len(x), -1)))\n",
    "    return x\n",
    "\n",
    "def preproc_y(y, num_classes=10):\n",
    "    if y.shape[-1] == 1:\n",
    "        y = keras.utils.to_categorical(y, num_classes)\n",
    "    return y   "
   ]
  },
  {
   "cell_type": "code",
   "execution_count": 5,
   "metadata": {},
   "outputs": [],
   "source": [
    "x_train, y_train = train\n",
    "x_test, y_test = test\n",
    "\n",
    "# Preproc the inputs\n",
    "x_train = preproc_x(x_train)\n",
    "x_test = preproc_x(x_test)\n",
    "\n",
    "# Preprc the outputs\n",
    "y_train = preproc_y(y_train)\n",
    "y_test = preproc_y(y_test)"
   ]
  },
  {
   "cell_type": "code",
   "execution_count": 6,
   "metadata": {},
   "outputs": [
    {
     "name": "stderr",
     "output_type": "stream",
     "text": [
      "WARNING: Logging before flag parsing goes to stderr.\n",
      "W0804 14:06:25.775797 13892 deprecation_wrapper.py:119] From D:\\Software\\Anaconda3\\lib\\site-packages\\keras\\backend\\tensorflow_backend.py:74: The name tf.get_default_graph is deprecated. Please use tf.compat.v1.get_default_graph instead.\n",
      "\n",
      "W0804 14:06:25.791755 13892 deprecation_wrapper.py:119] From D:\\Software\\Anaconda3\\lib\\site-packages\\keras\\backend\\tensorflow_backend.py:517: The name tf.placeholder is deprecated. Please use tf.compat.v1.placeholder instead.\n",
      "\n",
      "W0804 14:06:25.794715 13892 deprecation_wrapper.py:119] From D:\\Software\\Anaconda3\\lib\\site-packages\\keras\\backend\\tensorflow_backend.py:4138: The name tf.random_uniform is deprecated. Please use tf.random.uniform instead.\n",
      "\n"
     ]
    },
    {
     "name": "stdout",
     "output_type": "stream",
     "text": [
      "_________________________________________________________________\n",
      "Layer (type)                 Output Shape              Param #   \n",
      "=================================================================\n",
      "input_1 (InputLayer)         (None, 3072)              0         \n",
      "_________________________________________________________________\n",
      "hidden_layer1 (Dense)        (None, 512)               1573376   \n",
      "_________________________________________________________________\n",
      "hidden_layer2 (Dense)        (None, 256)               131328    \n",
      "_________________________________________________________________\n",
      "hidden_layer3 (Dense)        (None, 128)               32896     \n",
      "_________________________________________________________________\n",
      "hidden_layer4 (Dense)        (None, 64)                8256      \n",
      "_________________________________________________________________\n",
      "hidden_layer5 (Dense)        (None, 32)                2080      \n",
      "_________________________________________________________________\n",
      "hidden_layer6 (Dense)        (None, 16)                528       \n",
      "_________________________________________________________________\n",
      "hidden_layer7 (Dense)        (None, 8)                 136       \n",
      "_________________________________________________________________\n",
      "output (Dense)               (None, 10)                90        \n",
      "=================================================================\n",
      "Total params: 1,748,690\n",
      "Trainable params: 1,748,690\n",
      "Non-trainable params: 0\n",
      "_________________________________________________________________\n"
     ]
    }
   ],
   "source": [
    "\"\"\"Code Here\n",
    "建立你的神經網路\n",
    "\"\"\"\n",
    "def build_mlp(input_shape, output_units=10, num_neurons=[512, 256, 128, 64, 32, 16, 8]):\n",
    "    input_layer = keras.layers.Input(input_shape)\n",
    "    \n",
    "    for i, n_units in enumerate(num_neurons):\n",
    "        if i == 0:\n",
    "            x = keras.layers.Dense(units=n_units, activation=\"relu\", name=\"hidden_layer\"+str(i+1))(input_layer)\n",
    "        else:\n",
    "            x = keras.layers.Dense(units=n_units, activation=\"relu\", name=\"hidden_layer\"+str(i+1))(x)\n",
    "    \n",
    "    out = keras.layers.Dense(units=output_units, activation=\"softmax\", name=\"output\")(x)\n",
    "    \n",
    "    model = keras.models.Model(inputs=[input_layer], outputs=[out])\n",
    "    return model\n",
    "\n",
    "model = build_mlp(input_shape=x_train.shape[1:])\n",
    "model.summary()"
   ]
  },
  {
   "cell_type": "code",
   "execution_count": 7,
   "metadata": {},
   "outputs": [],
   "source": [
    "## 超參數設定\n",
    "LEARNING_RATE = 0.001\n",
    "EPOCHS = 100\n",
    "BATCH_SIZE = 256"
   ]
  },
  {
   "cell_type": "code",
   "execution_count": 8,
   "metadata": {},
   "outputs": [
    {
     "name": "stderr",
     "output_type": "stream",
     "text": [
      "W0804 14:06:25.921047 13892 deprecation_wrapper.py:119] From D:\\Software\\Anaconda3\\lib\\site-packages\\keras\\optimizers.py:790: The name tf.train.Optimizer is deprecated. Please use tf.compat.v1.train.Optimizer instead.\n",
      "\n",
      "W0804 14:06:25.928064 13892 deprecation_wrapper.py:119] From D:\\Software\\Anaconda3\\lib\\site-packages\\keras\\backend\\tensorflow_backend.py:3295: The name tf.log is deprecated. Please use tf.math.log instead.\n",
      "\n"
     ]
    }
   ],
   "source": [
    "optimizer = keras.optimizers.Adam(lr=LEARNING_RATE)\n",
    "model.compile(loss=\"categorical_crossentropy\", metrics=[\"accuracy\"], optimizer=optimizer)"
   ]
  },
  {
   "cell_type": "code",
   "execution_count": 9,
   "metadata": {},
   "outputs": [
    {
     "name": "stderr",
     "output_type": "stream",
     "text": [
      "W0804 14:06:26.025801 13892 deprecation.py:323] From D:\\Software\\Anaconda3\\lib\\site-packages\\tensorflow\\python\\ops\\math_grad.py:1250: add_dispatch_support.<locals>.wrapper (from tensorflow.python.ops.array_ops) is deprecated and will be removed in a future version.\n",
      "Instructions for updating:\n",
      "Use tf.where in 2.0, which has the same broadcast rule as np.where\n",
      "W0804 14:06:26.093586 13892 deprecation_wrapper.py:119] From D:\\Software\\Anaconda3\\lib\\site-packages\\keras\\backend\\tensorflow_backend.py:986: The name tf.assign_add is deprecated. Please use tf.compat.v1.assign_add instead.\n",
      "\n"
     ]
    },
    {
     "name": "stdout",
     "output_type": "stream",
     "text": [
      "Train on 50000 samples, validate on 10000 samples\n",
      "Epoch 1/100\n",
      "50000/50000 [==============================] - 7s 146us/step - loss: 2.0163 - acc: 0.2552 - val_loss: 1.8552 - val_acc: 0.3177\n",
      "Epoch 2/100\n",
      "50000/50000 [==============================] - 4s 85us/step - loss: 1.7303 - acc: 0.3679 - val_loss: 1.6355 - val_acc: 0.4126\n",
      "Epoch 3/100\n",
      "50000/50000 [==============================] - 4s 85us/step - loss: 1.5577 - acc: 0.4405 - val_loss: 1.5594 - val_acc: 0.4429\n",
      "Epoch 4/100\n",
      "50000/50000 [==============================] - 4s 84us/step - loss: 1.4548 - acc: 0.4805 - val_loss: 1.5064 - val_acc: 0.4732\n",
      "Epoch 5/100\n",
      "50000/50000 [==============================] - 4s 88us/step - loss: 1.3675 - acc: 0.5124 - val_loss: 1.4713 - val_acc: 0.4816\n",
      "Epoch 6/100\n",
      "50000/50000 [==============================] - 5s 97us/step - loss: 1.2867 - acc: 0.5396 - val_loss: 1.4591 - val_acc: 0.4970\n",
      "Epoch 7/100\n",
      "50000/50000 [==============================] - 5s 96us/step - loss: 1.2138 - acc: 0.5667 - val_loss: 1.4413 - val_acc: 0.5040\n",
      "Epoch 8/100\n",
      "50000/50000 [==============================] - 4s 89us/step - loss: 1.1406 - acc: 0.5928 - val_loss: 1.4693 - val_acc: 0.5059\n",
      "Epoch 9/100\n",
      "50000/50000 [==============================] - 4s 86us/step - loss: 1.0668 - acc: 0.6171 - val_loss: 1.4827 - val_acc: 0.5149\n",
      "Epoch 10/100\n",
      "50000/50000 [==============================] - 4s 86us/step - loss: 0.9990 - acc: 0.6395 - val_loss: 1.4678 - val_acc: 0.5098\n",
      "Epoch 11/100\n",
      "50000/50000 [==============================] - 4s 86us/step - loss: 0.9352 - acc: 0.6631 - val_loss: 1.5688 - val_acc: 0.5055\n",
      "Epoch 12/100\n",
      "50000/50000 [==============================] - 4s 86us/step - loss: 0.8734 - acc: 0.6834 - val_loss: 1.5932 - val_acc: 0.5218\n",
      "Epoch 13/100\n",
      "50000/50000 [==============================] - 4s 86us/step - loss: 0.8146 - acc: 0.7013 - val_loss: 1.6544 - val_acc: 0.5283\n",
      "Epoch 14/100\n",
      "50000/50000 [==============================] - 4s 89us/step - loss: 0.7655 - acc: 0.7194 - val_loss: 1.6416 - val_acc: 0.5171\n",
      "Epoch 15/100\n",
      "50000/50000 [==============================] - 4s 88us/step - loss: 0.7111 - acc: 0.7387 - val_loss: 1.7560 - val_acc: 0.5199\n",
      "Epoch 16/100\n",
      "50000/50000 [==============================] - 4s 83us/step - loss: 0.6694 - acc: 0.7507 - val_loss: 1.7804 - val_acc: 0.5265\n",
      "Epoch 17/100\n",
      "50000/50000 [==============================] - 4s 82us/step - loss: 0.6233 - acc: 0.7701 - val_loss: 1.9081 - val_acc: 0.5233\n",
      "Epoch 18/100\n",
      "50000/50000 [==============================] - 4s 86us/step - loss: 0.5848 - acc: 0.7832 - val_loss: 1.9281 - val_acc: 0.5269\n",
      "Epoch 19/100\n",
      "50000/50000 [==============================] - 4s 86us/step - loss: 0.5517 - acc: 0.7952 - val_loss: 2.0505 - val_acc: 0.5279\n",
      "Epoch 20/100\n",
      "50000/50000 [==============================] - 4s 86us/step - loss: 0.5148 - acc: 0.8071 - val_loss: 2.1555 - val_acc: 0.5224\n",
      "Epoch 21/100\n",
      "50000/50000 [==============================] - 4s 86us/step - loss: 0.4872 - acc: 0.8173 - val_loss: 2.2326 - val_acc: 0.5233\n",
      "Epoch 22/100\n",
      "50000/50000 [==============================] - 4s 87us/step - loss: 0.4513 - acc: 0.8305 - val_loss: 2.2418 - val_acc: 0.5301\n",
      "Epoch 23/100\n",
      "50000/50000 [==============================] - 4s 85us/step - loss: 0.4454 - acc: 0.8355 - val_loss: 2.2833 - val_acc: 0.5182\n",
      "Epoch 24/100\n",
      "50000/50000 [==============================] - 4s 86us/step - loss: 0.4127 - acc: 0.8442 - val_loss: 2.4595 - val_acc: 0.5177\n",
      "Epoch 25/100\n",
      "50000/50000 [==============================] - 4s 86us/step - loss: 0.3817 - acc: 0.8583 - val_loss: 2.5566 - val_acc: 0.5097\n",
      "Epoch 26/100\n",
      "50000/50000 [==============================] - 4s 86us/step - loss: 0.3709 - acc: 0.8615 - val_loss: 2.5297 - val_acc: 0.5191\n",
      "Epoch 27/100\n",
      "50000/50000 [==============================] - 4s 89us/step - loss: 0.3433 - acc: 0.8712 - val_loss: 2.6167 - val_acc: 0.5136\n",
      "Epoch 28/100\n",
      "50000/50000 [==============================] - 4s 85us/step - loss: 0.3509 - acc: 0.8708 - val_loss: 2.6986 - val_acc: 0.5194\n",
      "Epoch 29/100\n",
      "50000/50000 [==============================] - 4s 83us/step - loss: 0.3224 - acc: 0.8794 - val_loss: 2.7029 - val_acc: 0.5241\n",
      "Epoch 30/100\n",
      "50000/50000 [==============================] - 4s 86us/step - loss: 0.3145 - acc: 0.8851 - val_loss: 2.7209 - val_acc: 0.5127\n",
      "Epoch 31/100\n",
      "50000/50000 [==============================] - 4s 87us/step - loss: 0.2979 - acc: 0.8906 - val_loss: 2.8934 - val_acc: 0.5137\n",
      "Epoch 32/100\n",
      "50000/50000 [==============================] - 4s 85us/step - loss: 0.2840 - acc: 0.8969 - val_loss: 2.7243 - val_acc: 0.5140\n",
      "Epoch 33/100\n",
      "50000/50000 [==============================] - 4s 84us/step - loss: 0.2815 - acc: 0.8977 - val_loss: 2.8547 - val_acc: 0.5174\n",
      "Epoch 34/100\n",
      "50000/50000 [==============================] - 4s 83us/step - loss: 0.2552 - acc: 0.9084 - val_loss: 3.0422 - val_acc: 0.5160\n",
      "Epoch 35/100\n",
      "50000/50000 [==============================] - 4s 83us/step - loss: 0.2539 - acc: 0.9094 - val_loss: 2.9937 - val_acc: 0.5204\n",
      "Epoch 36/100\n",
      "50000/50000 [==============================] - 4s 82us/step - loss: 0.2494 - acc: 0.9103 - val_loss: 3.0948 - val_acc: 0.5200\n",
      "Epoch 37/100\n",
      "50000/50000 [==============================] - 4s 81us/step - loss: 0.2250 - acc: 0.9196 - val_loss: 3.0867 - val_acc: 0.5081\n",
      "Epoch 38/100\n",
      "50000/50000 [==============================] - 4s 83us/step - loss: 0.2399 - acc: 0.9151 - val_loss: 3.0668 - val_acc: 0.5111\n",
      "Epoch 39/100\n",
      "50000/50000 [==============================] - 4s 82us/step - loss: 0.2171 - acc: 0.9230 - val_loss: 3.3269 - val_acc: 0.5180\n",
      "Epoch 40/100\n",
      "50000/50000 [==============================] - 4s 83us/step - loss: 0.2061 - acc: 0.9272 - val_loss: 3.2335 - val_acc: 0.5139\n",
      "Epoch 41/100\n",
      "50000/50000 [==============================] - 4s 84us/step - loss: 0.2054 - acc: 0.9276 - val_loss: 3.2538 - val_acc: 0.5190\n",
      "Epoch 42/100\n",
      "50000/50000 [==============================] - 4s 82us/step - loss: 0.1989 - acc: 0.9309 - val_loss: 3.2907 - val_acc: 0.5111\n",
      "Epoch 43/100\n",
      "50000/50000 [==============================] - 4s 82us/step - loss: 0.1831 - acc: 0.9363 - val_loss: 3.3638 - val_acc: 0.5186\n",
      "Epoch 44/100\n",
      "50000/50000 [==============================] - 4s 83us/step - loss: 0.1832 - acc: 0.9364 - val_loss: 3.2805 - val_acc: 0.5219\n",
      "Epoch 45/100\n",
      "50000/50000 [==============================] - 4s 82us/step - loss: 0.1798 - acc: 0.9384 - val_loss: 3.3865 - val_acc: 0.5148\n",
      "Epoch 46/100\n",
      "50000/50000 [==============================] - 4s 83us/step - loss: 0.1610 - acc: 0.9450 - val_loss: 3.4877 - val_acc: 0.5190\n",
      "Epoch 47/100\n",
      "50000/50000 [==============================] - 4s 83us/step - loss: 0.1740 - acc: 0.9416 - val_loss: 3.3770 - val_acc: 0.5166\n",
      "Epoch 48/100\n",
      "50000/50000 [==============================] - 4s 85us/step - loss: 0.1638 - acc: 0.9444 - val_loss: 3.4550 - val_acc: 0.5043\n",
      "Epoch 49/100\n",
      "50000/50000 [==============================] - 4s 83us/step - loss: 0.1661 - acc: 0.9442 - val_loss: 3.2818 - val_acc: 0.5181\n",
      "Epoch 50/100\n",
      "50000/50000 [==============================] - 4s 88us/step - loss: 0.1431 - acc: 0.9534 - val_loss: 3.4977 - val_acc: 0.5208\n",
      "Epoch 51/100\n",
      "50000/50000 [==============================] - 4s 87us/step - loss: 0.1645 - acc: 0.9462 - val_loss: 3.3996 - val_acc: 0.5184\n",
      "Epoch 52/100\n",
      "50000/50000 [==============================] - 4s 86us/step - loss: 0.1435 - acc: 0.9519 - val_loss: 3.5118 - val_acc: 0.5107\n",
      "Epoch 53/100\n",
      "50000/50000 [==============================] - 4s 85us/step - loss: 0.1472 - acc: 0.9505 - val_loss: 3.5943 - val_acc: 0.5165\n",
      "Epoch 54/100\n",
      "50000/50000 [==============================] - 5s 94us/step - loss: 0.1304 - acc: 0.9557 - val_loss: 3.5778 - val_acc: 0.5165\n",
      "Epoch 55/100\n",
      "50000/50000 [==============================] - 4s 83us/step - loss: 0.1484 - acc: 0.9516 - val_loss: 3.6024 - val_acc: 0.5210\n",
      "Epoch 56/100\n",
      "50000/50000 [==============================] - 4s 82us/step - loss: 0.1383 - acc: 0.9537 - val_loss: 3.5971 - val_acc: 0.5180\n",
      "Epoch 57/100\n",
      "50000/50000 [==============================] - 4s 83us/step - loss: 0.1252 - acc: 0.9584 - val_loss: 3.7057 - val_acc: 0.5192\n",
      "Epoch 58/100\n",
      "50000/50000 [==============================] - 4s 85us/step - loss: 0.1263 - acc: 0.9586 - val_loss: 3.6317 - val_acc: 0.5196\n",
      "Epoch 59/100\n"
     ]
    },
    {
     "name": "stdout",
     "output_type": "stream",
     "text": [
      "50000/50000 [==============================] - 4s 84us/step - loss: 0.1439 - acc: 0.9525 - val_loss: 3.5560 - val_acc: 0.5157\n",
      "Epoch 60/100\n",
      "50000/50000 [==============================] - 4s 82us/step - loss: 0.1341 - acc: 0.9562 - val_loss: 3.7929 - val_acc: 0.5137\n",
      "Epoch 61/100\n",
      "50000/50000 [==============================] - 4s 81us/step - loss: 0.0864 - acc: 0.9710 - val_loss: 3.8728 - val_acc: 0.5181\n",
      "Epoch 62/100\n",
      "50000/50000 [==============================] - 4s 82us/step - loss: 0.1263 - acc: 0.9592 - val_loss: 3.5419 - val_acc: 0.5209\n",
      "Epoch 63/100\n",
      "50000/50000 [==============================] - 4s 86us/step - loss: 0.1165 - acc: 0.9626 - val_loss: 3.6990 - val_acc: 0.5123\n",
      "Epoch 64/100\n",
      "50000/50000 [==============================] - 4s 88us/step - loss: 0.1117 - acc: 0.9634 - val_loss: 3.9024 - val_acc: 0.5127\n",
      "Epoch 65/100\n",
      "50000/50000 [==============================] - 4s 87us/step - loss: 0.1058 - acc: 0.9652 - val_loss: 3.7816 - val_acc: 0.5199\n",
      "Epoch 66/100\n",
      "50000/50000 [==============================] - 5s 90us/step - loss: 0.1077 - acc: 0.9643 - val_loss: 3.8513 - val_acc: 0.5118\n",
      "Epoch 67/100\n",
      "50000/50000 [==============================] - 4s 88us/step - loss: 0.1255 - acc: 0.9579 - val_loss: 3.7206 - val_acc: 0.5152\n",
      "Epoch 68/100\n",
      "50000/50000 [==============================] - 4s 87us/step - loss: 0.1187 - acc: 0.9616 - val_loss: 3.8362 - val_acc: 0.5177\n",
      "Epoch 69/100\n",
      "50000/50000 [==============================] - 4s 89us/step - loss: 0.1057 - acc: 0.9649 - val_loss: 3.7785 - val_acc: 0.5200\n",
      "Epoch 70/100\n",
      "50000/50000 [==============================] - 4s 89us/step - loss: 0.0949 - acc: 0.9684 - val_loss: 3.7603 - val_acc: 0.5153\n",
      "Epoch 71/100\n",
      "50000/50000 [==============================] - 5s 92us/step - loss: 0.0973 - acc: 0.9686 - val_loss: 3.8172 - val_acc: 0.5235\n",
      "Epoch 72/100\n",
      "50000/50000 [==============================] - 4s 86us/step - loss: 0.1011 - acc: 0.9670 - val_loss: 3.7991 - val_acc: 0.5167\n",
      "Epoch 73/100\n",
      "50000/50000 [==============================] - 4s 86us/step - loss: 0.0826 - acc: 0.9733 - val_loss: 3.9076 - val_acc: 0.5185\n",
      "Epoch 74/100\n",
      "50000/50000 [==============================] - 4s 85us/step - loss: 0.1064 - acc: 0.9650 - val_loss: 3.7069 - val_acc: 0.5161\n",
      "Epoch 75/100\n",
      "50000/50000 [==============================] - 4s 85us/step - loss: 0.0974 - acc: 0.9689 - val_loss: 3.7024 - val_acc: 0.5199\n",
      "Epoch 76/100\n",
      "50000/50000 [==============================] - 4s 85us/step - loss: 0.1088 - acc: 0.9650 - val_loss: 3.7866 - val_acc: 0.5188\n",
      "Epoch 77/100\n",
      "50000/50000 [==============================] - 4s 85us/step - loss: 0.0894 - acc: 0.9707 - val_loss: 3.7991 - val_acc: 0.5193\n",
      "Epoch 78/100\n",
      "50000/50000 [==============================] - 4s 85us/step - loss: 0.0922 - acc: 0.9698 - val_loss: 3.9362 - val_acc: 0.5125\n",
      "Epoch 79/100\n",
      "50000/50000 [==============================] - 4s 85us/step - loss: 0.0920 - acc: 0.9711 - val_loss: 3.8971 - val_acc: 0.5157\n",
      "Epoch 80/100\n",
      "50000/50000 [==============================] - 4s 88us/step - loss: 0.0787 - acc: 0.9749 - val_loss: 3.9443 - val_acc: 0.5171\n",
      "Epoch 81/100\n",
      "50000/50000 [==============================] - 4s 88us/step - loss: 0.1012 - acc: 0.9670 - val_loss: 3.7207 - val_acc: 0.5217\n",
      "Epoch 82/100\n",
      "50000/50000 [==============================] - 4s 88us/step - loss: 0.0927 - acc: 0.9702 - val_loss: 3.8518 - val_acc: 0.5174\n",
      "Epoch 83/100\n",
      "50000/50000 [==============================] - 4s 89us/step - loss: 0.0687 - acc: 0.9783 - val_loss: 3.9664 - val_acc: 0.5173\n",
      "Epoch 84/100\n",
      "50000/50000 [==============================] - 4s 87us/step - loss: 0.0928 - acc: 0.9709 - val_loss: 3.9369 - val_acc: 0.5166\n",
      "Epoch 85/100\n",
      "50000/50000 [==============================] - 4s 88us/step - loss: 0.0814 - acc: 0.9742 - val_loss: 4.0547 - val_acc: 0.5182\n",
      "Epoch 86/100\n",
      "50000/50000 [==============================] - 4s 88us/step - loss: 0.0778 - acc: 0.9752 - val_loss: 4.0302 - val_acc: 0.5187\n",
      "Epoch 87/100\n",
      "50000/50000 [==============================] - 4s 85us/step - loss: 0.1032 - acc: 0.9676 - val_loss: 3.7517 - val_acc: 0.5219\n",
      "Epoch 88/100\n",
      "50000/50000 [==============================] - 4s 84us/step - loss: 0.0894 - acc: 0.9717 - val_loss: 3.7644 - val_acc: 0.5225\n",
      "Epoch 89/100\n",
      "50000/50000 [==============================] - 4s 85us/step - loss: 0.0694 - acc: 0.9781 - val_loss: 3.8391 - val_acc: 0.5277\n",
      "Epoch 90/100\n",
      "50000/50000 [==============================] - 4s 85us/step - loss: 0.0741 - acc: 0.9756 - val_loss: 3.9470 - val_acc: 0.5170\n",
      "Epoch 91/100\n",
      "50000/50000 [==============================] - 4s 85us/step - loss: 0.0833 - acc: 0.9731 - val_loss: 4.0291 - val_acc: 0.5170\n",
      "Epoch 92/100\n",
      "50000/50000 [==============================] - 4s 85us/step - loss: 0.0713 - acc: 0.9769 - val_loss: 4.0048 - val_acc: 0.5193\n",
      "Epoch 93/100\n",
      "50000/50000 [==============================] - 4s 85us/step - loss: 0.0883 - acc: 0.9724 - val_loss: 3.8960 - val_acc: 0.5181\n",
      "Epoch 94/100\n",
      "50000/50000 [==============================] - 4s 85us/step - loss: 0.0673 - acc: 0.9785 - val_loss: 3.9924 - val_acc: 0.5175\n",
      "Epoch 95/100\n",
      "50000/50000 [==============================] - 4s 85us/step - loss: 0.0828 - acc: 0.9738 - val_loss: 3.8931 - val_acc: 0.5173\n",
      "Epoch 96/100\n",
      "50000/50000 [==============================] - 4s 85us/step - loss: 0.0746 - acc: 0.9763 - val_loss: 3.9231 - val_acc: 0.5200\n",
      "Epoch 97/100\n",
      "50000/50000 [==============================] - 4s 85us/step - loss: 0.0475 - acc: 0.9853 - val_loss: 4.2177 - val_acc: 0.5195\n",
      "Epoch 98/100\n",
      "50000/50000 [==============================] - 4s 85us/step - loss: 0.1048 - acc: 0.9670 - val_loss: 3.7462 - val_acc: 0.5218\n",
      "Epoch 99/100\n",
      "50000/50000 [==============================] - 4s 85us/step - loss: 0.0813 - acc: 0.9746 - val_loss: 3.8375 - val_acc: 0.5191\n",
      "Epoch 100/100\n",
      "50000/50000 [==============================] - 4s 85us/step - loss: 0.0792 - acc: 0.9738 - val_loss: 3.9485 - val_acc: 0.5273\n"
     ]
    },
    {
     "data": {
      "text/plain": [
       "<keras.callbacks.History at 0x19b609b5470>"
      ]
     },
     "execution_count": 9,
     "metadata": {},
     "output_type": "execute_result"
    }
   ],
   "source": [
    "model.fit(x_train, y_train, \n",
    "          epochs=EPOCHS, \n",
    "          batch_size=BATCH_SIZE, \n",
    "          validation_data=(x_test, y_test), \n",
    "          shuffle=True)"
   ]
  },
  {
   "cell_type": "code",
   "execution_count": 11,
   "metadata": {},
   "outputs": [
    {
     "data": {
      "image/png": "[encoded data removed]",
      "text/plain": [
       "<Figure size 432x288 with 1 Axes>"
      ]
     },
     "metadata": {
      "needs_background": "light"
     },
     "output_type": "display_data"
    },
    {
     "data": {
      "image/png": "[encoded data removed]",
      "text/plain": [
       "<Figure size 432x288 with 1 Axes>"
      ]
     },
     "metadata": {
      "needs_background": "light"
     },
     "output_type": "display_data"
    }
   ],
   "source": [
    "import matplotlib.pyplot as plt\n",
    "\n",
    "\n",
    "train_loss = model.history.history[\"loss\"]\n",
    "valid_loss = model.history.history[\"val_loss\"]\n",
    "\n",
    "train_acc = model.history.history[\"acc\"]\n",
    "valid_acc = model.history.history[\"val_acc\"]\n",
    "\n",
    "plt.plot(range(len(train_loss)), train_loss, label=\"train loss\")\n",
    "plt.plot(range(len(valid_loss)), valid_loss, label=\"valid loss\")\n",
    "plt.legend()\n",
    "plt.title(\"Loss\")\n",
    "plt.show()\n",
    "\n",
    "plt.plot(range(len(train_acc)), train_acc, label=\"train accuracy\")\n",
    "plt.plot(range(len(valid_acc)), valid_acc, label=\"valid accuracy\")\n",
    "plt.legend()\n",
    "plt.title(\"Accuracy\")\n",
    "plt.show()"
   ]
  },
  {
   "cell_type": "code",
   "execution_count": null,
   "metadata": {},
   "outputs": [],
   "source": []
  }
 ],
 "metadata": {
  "kernelspec": {
   "display_name": "Python 3",
   "language": "python",
   "name": "python3"
  },
  "language_info": {
   "codemirror_mode": {
    "name": "ipython",
    "version": 3
   },
   "file_extension": ".py",
   "mimetype": "text/x-python",
   "name": "python",
   "nbconvert_exporter": "python",
   "pygments_lexer": "ipython3",
   "version": "3.7.3"
  }
 },
 "nbformat": 4,
 "nbformat_minor": 2
}
