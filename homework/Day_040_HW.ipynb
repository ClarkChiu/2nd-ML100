{
 "cells": [
  {
   "cell_type": "markdown",
   "metadata": {},
   "source": [
    "## [作業重點]\n",
    "使用 Sklearn 中的 Lasso, Ridge 模型，來訓練各種資料集，務必了解送進去模型訓練的**資料型態**為何，也請了解模型中各項參數的意義。\n",
    "\n",
    "機器學習的模型非常多種，但要訓練的資料多半有固定的格式，確保你了解訓練資料的格式為何，這樣在應用新模型時，就能夠最快的上手開始訓練！"
   ]
  },
  {
   "cell_type": "markdown",
   "metadata": {},
   "source": [
    "## 練習時間\n",
    "試著使用 sklearn datasets 的其他資料集 (boston, ...)，來訓練自己的線性迴歸模型，並加上適當的正則化來觀察訓練情形。"
   ]
  },
  {
   "cell_type": "code",
   "execution_count": 1,
   "metadata": {},
   "outputs": [],
   "source": [
    "from sklearn import datasets, linear_model\n",
    "from sklearn.model_selection import train_test_split\n",
    "from sklearn.metrics import mean_squared_error"
   ]
  },
  {
   "cell_type": "code",
   "execution_count": 2,
   "metadata": {},
   "outputs": [
    {
     "name": "stdout",
     "output_type": "stream",
     "text": [
      "[-8.35437789e-02  4.75790279e-02  1.35264254e-02  2.68543464e+00\n",
      " -2.02659392e+01  3.77225299e+00  6.87940413e-03 -1.48989368e+00\n",
      "  3.12735206e-01 -1.09394801e-02 -9.14849315e-01  1.04369271e-02\n",
      " -5.39016183e-01]\n",
      "\n",
      "MSE for LR of boston is 18.968980068426575\n"
     ]
    }
   ],
   "source": [
    "boston = datasets.load_boston()\n",
    "x_train, x_test, y_train, y_test = train_test_split(boston.data, boston.target)\n",
    "regr = linear_model.LinearRegression()\n",
    "regr.fit(x_train, y_train)\n",
    "y_pred = regr.predict(x_test)\n",
    "\n",
    "print(f'{regr.coef_}\\n')\n",
    "print(f'MSE for LR of boston is {mean_squared_error(y_test, y_pred)}')"
   ]
  },
  {
   "cell_type": "code",
   "execution_count": 3,
   "metadata": {},
   "outputs": [
    {
     "name": "stdout",
     "output_type": "stream",
     "text": [
      "[-0.04524012  0.04900041 -0.          0.         -0.          0.84367122\n",
      "  0.02892569 -0.59507856  0.28822847 -0.01542042 -0.66590192  0.00943393\n",
      " -0.79506371]\n",
      "\n",
      "MSE for LR of boston is 23.86851517597278\n"
     ]
    }
   ],
   "source": [
    "regr = linear_model.Lasso(alpha=1.0)\n",
    "regr.fit(x_train, y_train)\n",
    "y_pred = regr.predict(x_test)\n",
    "\n",
    "print(f'{regr.coef_}\\n')\n",
    "print(f'MSE for LR of boston is {mean_squared_error(y_test, y_pred)}')"
   ]
  },
  {
   "cell_type": "code",
   "execution_count": 4,
   "metadata": {},
   "outputs": [
    {
     "name": "stdout",
     "output_type": "stream",
     "text": [
      "[-0.06655386  0.05067973 -0.03401519  0.         -0.          3.03257804\n",
      "  0.00437377 -1.00989086  0.29262649 -0.01460957 -0.70847685  0.01109418\n",
      " -0.64066748]\n",
      "\n",
      "MSE for LR of boston is 19.787156222933373\n"
     ]
    }
   ],
   "source": [
    "regr = linear_model.Lasso(alpha=0.3)\n",
    "regr.fit(x_train, y_train)\n",
    "y_pred = regr.predict(x_test)\n",
    "\n",
    "print(f'{regr.coef_}\\n')\n",
    "print(f'MSE for LR of boston is {mean_squared_error(y_test, y_pred)}')"
   ]
  },
  {
   "cell_type": "code",
   "execution_count": 5,
   "metadata": {},
   "outputs": [
    {
     "name": "stdout",
     "output_type": "stream",
     "text": [
      "[-7.78555629e-02  4.87378710e-02 -2.83917679e-02  2.60498035e+00\n",
      " -1.09694186e+01  3.81122419e+00 -9.33063179e-04 -1.34984580e+00\n",
      "  2.92993782e-01 -1.16620529e-02 -8.10636865e-01  1.09451413e-02\n",
      " -5.50747094e-01]\n",
      "\n",
      "MSE for LR of boston is 18.708900012662475\n"
     ]
    }
   ],
   "source": [
    "regr = linear_model.Ridge(alpha=1.0)\n",
    "regr.fit(x_train, y_train)\n",
    "y_pred = regr.predict(x_test)\n",
    "\n",
    "print(f'{regr.coef_}\\n')\n",
    "print(f'MSE for LR of boston is {mean_squared_error(y_test, y_pred)}')"
   ]
  },
  {
   "cell_type": "code",
   "execution_count": 6,
   "metadata": {},
   "outputs": [
    {
     "name": "stdout",
     "output_type": "stream",
     "text": [
      "[-0.10951485  0.02436466 -0.17650988  0.03847983 -0.00267397  0.15238818\n",
      " -0.45525019 -0.42976376  0.09057556  0.0589836  -0.11434231 -0.28256899\n",
      " -0.00057406]\n",
      "\n",
      "MSE for LR of wine is 0.09725671666723566\n"
     ]
    }
   ],
   "source": [
    "boston = datasets.load_wine()\n",
    "x_train, x_test, y_train, y_test = train_test_split(boston.data, boston.target)\n",
    "regr = linear_model.LinearRegression()\n",
    "regr.fit(x_train, y_train)\n",
    "y_pred = regr.predict(x_test)\n",
    "\n",
    "print(f'{regr.coef_}\\n')\n",
    "print(f'MSE for LR of wine is {mean_squared_error(y_test, y_pred)}')"
   ]
  },
  {
   "cell_type": "code",
   "execution_count": 7,
   "metadata": {},
   "outputs": [
    {
     "name": "stdout",
     "output_type": "stream",
     "text": [
      "[-0.          0.          0.          0.         -0.         -0.\n",
      " -0.          0.         -0.          0.07637852 -0.         -0.\n",
      " -0.00171713]\n",
      "\n",
      "MSE for LR of boston is 0.2325558126198419\n"
     ]
    }
   ],
   "source": [
    "regr = linear_model.Lasso(alpha=0.5)\n",
    "regr.fit(x_train, y_train)\n",
    "y_pred = regr.predict(x_test)\n",
    "\n",
    "print(f'{regr.coef_}\\n')\n",
    "print(f'MSE for LR of boston is {mean_squared_error(y_test, y_pred)}')"
   ]
  },
  {
   "cell_type": "code",
   "execution_count": 8,
   "metadata": {},
   "outputs": [
    {
     "name": "stdout",
     "output_type": "stream",
     "text": [
      "[-0.11096768  0.02394544 -0.18758531  0.03853211 -0.00235326  0.13591139\n",
      " -0.43374697 -0.28633654  0.08181656  0.06061606 -0.11639329 -0.27411885\n",
      " -0.00057934]\n",
      "\n",
      "MSE for LR of boston is 0.09412745646878212\n"
     ]
    }
   ],
   "source": [
    "regr = linear_model.Ridge(alpha=0.5)\n",
    "regr.fit(x_train, y_train)\n",
    "y_pred = regr.predict(x_test)\n",
    "\n",
    "print(f'{regr.coef_}\\n')\n",
    "print(f'MSE for LR of boston is {mean_squared_error(y_test, y_pred)}')"
   ]
  }
 ],
 "metadata": {
  "kernelspec": {
   "display_name": "Python 3",
   "language": "python",
   "name": "python3"
  },
  "language_info": {
   "codemirror_mode": {
    "name": "ipython",
    "version": 3
   },
   "file_extension": ".py",
   "mimetype": "text/x-python",
   "name": "python",
   "nbconvert_exporter": "python",
   "pygments_lexer": "ipython3",
   "version": "3.7.3"
  }
 },
 "nbformat": 4,
 "nbformat_minor": 2
}
